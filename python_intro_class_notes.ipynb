{
 "cells": [
  {
   "cell_type": "markdown",
   "metadata": {},
   "source": [
    "# Python Class notes\n",
    "\n",
    "## Lists: ##\n",
    "\n",
    "* A collection of elements\n",
    "* We can temporarily change a list with concatenation or slicing, but these will not permanetly modify the list"
   ]
  },
  {
   "cell_type": "code",
   "execution_count": 1,
   "metadata": {},
   "outputs": [],
   "source": [
    "l = [1,2,3]"
   ]
  },
  {
   "cell_type": "code",
   "execution_count": 2,
   "metadata": {
    "scrolled": true
   },
   "outputs": [
    {
     "data": {
      "text/plain": [
       "3"
      ]
     },
     "execution_count": 2,
     "metadata": {},
     "output_type": "execute_result"
    }
   ],
   "source": [
    "len(l)"
   ]
  },
  {
   "cell_type": "code",
   "execution_count": 3,
   "metadata": {},
   "outputs": [
    {
     "data": {
      "text/plain": [
       "[1, 2, 3, 4]"
      ]
     },
     "execution_count": 3,
     "metadata": {},
     "output_type": "execute_result"
    }
   ],
   "source": [
    "l + [4]"
   ]
  },
  {
   "cell_type": "code",
   "execution_count": 4,
   "metadata": {},
   "outputs": [
    {
     "data": {
      "text/plain": [
       "[2, 3]"
      ]
     },
     "execution_count": 4,
     "metadata": {},
     "output_type": "execute_result"
    }
   ],
   "source": [
    "l[1:]"
   ]
  },
  {
   "cell_type": "markdown",
   "metadata": {},
   "source": [
    "- We can permantely change a list by doing append and remove"
   ]
  },
  {
   "cell_type": "code",
   "execution_count": 5,
   "metadata": {},
   "outputs": [],
   "source": [
    "l.append(4)"
   ]
  },
  {
   "cell_type": "code",
   "execution_count": 6,
   "metadata": {},
   "outputs": [
    {
     "data": {
      "text/plain": [
       "[1, 2, 3, 4]"
      ]
     },
     "execution_count": 6,
     "metadata": {},
     "output_type": "execute_result"
    }
   ],
   "source": [
    "l"
   ]
  },
  {
   "cell_type": "markdown",
   "metadata": {},
   "source": [
    "* It is important to note that .pop() will remove the last value of the list, unless otherwise it is especify"
   ]
  },
  {
   "cell_type": "code",
   "execution_count": 7,
   "metadata": {},
   "outputs": [
    {
     "data": {
      "text/plain": [
       "4"
      ]
     },
     "execution_count": 7,
     "metadata": {},
     "output_type": "execute_result"
    }
   ],
   "source": [
    "l.pop()"
   ]
  },
  {
   "cell_type": "code",
   "execution_count": 8,
   "metadata": {},
   "outputs": [
    {
     "data": {
      "text/plain": [
       "[1, 2, 3]"
      ]
     },
     "execution_count": 8,
     "metadata": {},
     "output_type": "execute_result"
    }
   ],
   "source": [
    "l"
   ]
  },
  {
   "cell_type": "markdown",
   "metadata": {},
   "source": [
    "## List like things:"
   ]
  },
  {
   "cell_type": "code",
   "execution_count": 9,
   "metadata": {},
   "outputs": [
    {
     "data": {
      "text/plain": [
       "range(0, 10)"
      ]
     },
     "execution_count": 9,
     "metadata": {},
     "output_type": "execute_result"
    }
   ],
   "source": [
    "range(10)"
   ]
  },
  {
   "cell_type": "code",
   "execution_count": 10,
   "metadata": {},
   "outputs": [
    {
     "data": {
      "text/plain": [
       "[0, 1, 2, 3, 4, 5, 6, 7, 8, 9]"
      ]
     },
     "execution_count": 10,
     "metadata": {},
     "output_type": "execute_result"
    }
   ],
   "source": [
    "list(range(10))"
   ]
  },
  {
   "cell_type": "markdown",
   "metadata": {},
   "source": [
    "## Tuples:\n",
    "\n",
    "* It's a collection of elements, like a list, but you cannot make changes to the elements in the list once the tuple is created\n",
    "* We can manipulate tuples like a list, as long as it doesn't change the contents"
   ]
  },
  {
   "cell_type": "code",
   "execution_count": 17,
   "metadata": {},
   "outputs": [],
   "source": [
    "my_tuple = (1,2,3)"
   ]
  },
  {
   "cell_type": "code",
   "execution_count": 18,
   "metadata": {},
   "outputs": [
    {
     "data": {
      "text/plain": [
       "2"
      ]
     },
     "execution_count": 18,
     "metadata": {},
     "output_type": "execute_result"
    }
   ],
   "source": [
    "my_tuple[1]"
   ]
  },
  {
   "cell_type": "markdown",
   "metadata": {},
   "source": [
    "## When to use a tuple vs a list?\n",
    "\n",
    "Lists are better when you don't know what the length of the list will be or if you will have the same types of values \n",
    "\n",
    "Tuples are better when you know exacly the length of the list, and know that the length won't change. Tuples can store different types of values together"
   ]
  },
  {
   "cell_type": "markdown",
   "metadata": {},
   "source": [
    "## Dictionaries\n",
    "\n",
    "* Used to represent records\n",
    "* The order doesn't matter as much because we have keys, which we relay on for accessing dictionaries"
   ]
  },
  {
   "cell_type": "code",
   "execution_count": 19,
   "metadata": {},
   "outputs": [],
   "source": [
    "meal = {'type': 'breakfast', 'contents': 'oatmeal and blueberries', 'beverage': 'coffe'}"
   ]
  },
  {
   "cell_type": "code",
   "execution_count": 20,
   "metadata": {},
   "outputs": [
    {
     "data": {
      "text/plain": [
       "{'type': 'breakfast',\n",
       " 'contents': 'oatmeal and blueberries',\n",
       " 'beverage': 'coffe'}"
      ]
     },
     "execution_count": 20,
     "metadata": {},
     "output_type": "execute_result"
    }
   ],
   "source": [
    "meal"
   ]
  },
  {
   "cell_type": "code",
   "execution_count": 22,
   "metadata": {},
   "outputs": [
    {
     "data": {
      "text/plain": [
       "'coffe'"
      ]
     },
     "execution_count": 22,
     "metadata": {},
     "output_type": "execute_result"
    }
   ],
   "source": [
    "meal['beverage']"
   ]
  },
  {
   "cell_type": "markdown",
   "metadata": {},
   "source": [
    "We can add new values to a dictionary, as well as new keys with associated values"
   ]
  },
  {
   "cell_type": "code",
   "execution_count": 23,
   "metadata": {},
   "outputs": [],
   "source": [
    "meal['price'] = 9.99"
   ]
  },
  {
   "cell_type": "code",
   "execution_count": 24,
   "metadata": {},
   "outputs": [
    {
     "data": {
      "text/plain": [
       "{'type': 'breakfast',\n",
       " 'contents': 'oatmeal and blueberries',\n",
       " 'beverage': 'coffe',\n",
       " 'price': 9.99}"
      ]
     },
     "execution_count": 24,
     "metadata": {},
     "output_type": "execute_result"
    }
   ],
   "source": [
    "meal"
   ]
  },
  {
   "cell_type": "markdown",
   "metadata": {},
   "source": [
    "We can also use operators to change the values inside a dictionary"
   ]
  },
  {
   "cell_type": "code",
   "execution_count": 25,
   "metadata": {},
   "outputs": [],
   "source": [
    "meal['price'] *= 2"
   ]
  },
  {
   "cell_type": "code",
   "execution_count": 26,
   "metadata": {},
   "outputs": [
    {
     "data": {
      "text/plain": [
       "{'type': 'breakfast',\n",
       " 'contents': 'oatmeal and blueberries',\n",
       " 'beverage': 'coffe',\n",
       " 'price': 19.98}"
      ]
     },
     "execution_count": 26,
     "metadata": {},
     "output_type": "execute_result"
    }
   ],
   "source": [
    "meal"
   ]
  },
  {
   "cell_type": "markdown",
   "metadata": {},
   "source": [
    "There are multiple ways to create a dictionary - there is no best way to do it, but it is recommended to write it like the example above (which is the literal format)\n",
    "\n",
    "We can use the 'dict' function:"
   ]
  },
  {
   "cell_type": "code",
   "execution_count": 27,
   "metadata": {},
   "outputs": [
    {
     "data": {
      "text/plain": [
       "{'x': 123, 'y': 456, 'z': 789}"
      ]
     },
     "execution_count": 27,
     "metadata": {},
     "output_type": "execute_result"
    }
   ],
   "source": [
    "dict(x = 123, y = 456, z = 789)"
   ]
  },
  {
   "cell_type": "markdown",
   "metadata": {},
   "source": [
    "Or we can create a dictionary by creating an empty dict, and then adding new keys and values one by one:"
   ]
  },
  {
   "cell_type": "code",
   "execution_count": 28,
   "metadata": {},
   "outputs": [],
   "source": [
    "new_dict = {}"
   ]
  },
  {
   "cell_type": "code",
   "execution_count": 29,
   "metadata": {},
   "outputs": [],
   "source": [
    "new_dict['type'] = 'breakfast'"
   ]
  },
  {
   "cell_type": "code",
   "execution_count": 30,
   "metadata": {},
   "outputs": [
    {
     "data": {
      "text/plain": [
       "{'type': 'breakfast'}"
      ]
     },
     "execution_count": 30,
     "metadata": {},
     "output_type": "execute_result"
    }
   ],
   "source": [
    "new_dict"
   ]
  },
  {
   "cell_type": "markdown",
   "metadata": {},
   "source": [
    "## Nested Dictionaries\n",
    "\n",
    "* While in traditional dictionaries each key can only hold one value, we can created nested dictionaries to house lists within keys. This means that you can product many dictionaries within dictionaries\n"
   ]
  },
  {
   "cell_type": "code",
   "execution_count": 31,
   "metadata": {},
   "outputs": [],
   "source": [
    "nest_dict = {'type': 'breakfast' , 'ingredients': {'fruit': 'blueberrys', 'carbs': 'oats'}, 'price': '9.99'}"
   ]
  },
  {
   "cell_type": "code",
   "execution_count": 33,
   "metadata": {},
   "outputs": [
    {
     "data": {
      "text/plain": [
       "{'type': 'breakfast',\n",
       " 'ingredients': {'fruit': 'blueberrys', 'carbs': 'oats'},\n",
       " 'price': '9.99'}"
      ]
     },
     "execution_count": 33,
     "metadata": {},
     "output_type": "execute_result"
    }
   ],
   "source": [
    "nest_dict"
   ]
  },
  {
   "cell_type": "code",
   "execution_count": 36,
   "metadata": {},
   "outputs": [
    {
     "data": {
      "text/plain": [
       "'blueberrys'"
      ]
     },
     "execution_count": 36,
     "metadata": {},
     "output_type": "execute_result"
    }
   ],
   "source": [
    "nest_dict['ingredients']['fruit']"
   ]
  },
  {
   "cell_type": "markdown",
   "metadata": {},
   "source": [
    "## List Comprehension:\n",
    "\n",
    "* A way to specify a manipulation of an element in a different collection\n",
    "* We can create new lists using a range\n",
    "\n",
    "* We can think of these as a SQL query, where: \n",
    "\n",
    "[x = SELECT\n",
    "for x in = FROM\n",
    "if cond = WHERE]"
   ]
  },
  {
   "cell_type": "code",
   "execution_count": 37,
   "metadata": {},
   "outputs": [
    {
     "data": {
      "text/plain": [
       "[0, 1, 2, 3, 4, 5, 6, 7, 8, 9]"
      ]
     },
     "execution_count": 37,
     "metadata": {},
     "output_type": "execute_result"
    }
   ],
   "source": [
    "[x for x in range(10)]"
   ]
  },
  {
   "cell_type": "markdown",
   "metadata": {},
   "source": [
    "We can also use operators to affect the list and we can use operators to compare values and influence the output"
   ]
  },
  {
   "cell_type": "code",
   "execution_count": 38,
   "metadata": {},
   "outputs": [
    {
     "data": {
      "text/plain": [
       "[1, 2, 3, 4, 5, 6, 7, 8, 9, 10]"
      ]
     },
     "execution_count": 38,
     "metadata": {},
     "output_type": "execute_result"
    }
   ],
   "source": [
    "[x + 1 for x in range(10)]"
   ]
  },
  {
   "cell_type": "code",
   "execution_count": 39,
   "metadata": {},
   "outputs": [
    {
     "data": {
      "text/plain": [
       "[1, 2, 3, 4, 5, 6, 7]"
      ]
     },
     "execution_count": 39,
     "metadata": {},
     "output_type": "execute_result"
    }
   ],
   "source": [
    "[x + 1 for x in range(10) if x < 7]"
   ]
  },
  {
   "cell_type": "markdown",
   "metadata": {},
   "source": [
    "double numbers less than 5"
   ]
  },
  {
   "cell_type": "code",
   "execution_count": 45,
   "metadata": {},
   "outputs": [
    {
     "data": {
      "text/plain": [
       "[12, 14, 16, 18]"
      ]
     },
     "execution_count": 45,
     "metadata": {},
     "output_type": "execute_result"
    }
   ],
   "source": [
    "[x * 2 for x in range(10) if x > 5]"
   ]
  },
  {
   "cell_type": "markdown",
   "metadata": {},
   "source": [
    "half all odd numbers"
   ]
  },
  {
   "cell_type": "code",
   "execution_count": 46,
   "metadata": {},
   "outputs": [
    {
     "data": {
      "text/plain": [
       "[0.5, 1.5, 2.5, 3.5, 4.5]"
      ]
     },
     "execution_count": 46,
     "metadata": {},
     "output_type": "execute_result"
    }
   ],
   "source": [
    "[x * .5 for x in range(10) if x % 2 != 0]"
   ]
  },
  {
   "cell_type": "markdown",
   "metadata": {},
   "source": [
    "add three to the even numbers less than 7"
   ]
  },
  {
   "cell_type": "code",
   "execution_count": 47,
   "metadata": {},
   "outputs": [
    {
     "data": {
      "text/plain": [
       "[3, 5, 7, 9]"
      ]
     },
     "execution_count": 47,
     "metadata": {},
     "output_type": "execute_result"
    }
   ],
   "source": [
    "[x + 3 for x in range(10) if x % 2 == 0 and x < 7]"
   ]
  },
  {
   "cell_type": "code",
   "execution_count": 52,
   "metadata": {},
   "outputs": [],
   "source": [
    "cohorts = [\n",
    "    {'name': 'Ada', 'n_students': 17, 'coolness': 4},\n",
    "    {'name': 'Bayes', 'n_students': 20, 'coolness': 5},\n",
    "    {'name': 'Curie', 'n_students': 17, 'coolness': 80}\n",
    "]"
   ]
  },
  {
   "cell_type": "code",
   "execution_count": 53,
   "metadata": {},
   "outputs": [
    {
     "data": {
      "text/plain": [
       "[{'name': 'Ada', 'n_students': 17, 'coolness': 4},\n",
       " {'name': 'Bayes', 'n_students': 20, 'coolness': 5},\n",
       " {'name': 'Curie', 'n_students': 17, 'coolness': 80}]"
      ]
     },
     "execution_count": 53,
     "metadata": {},
     "output_type": "execute_result"
    }
   ],
   "source": [
    "cohorts"
   ]
  },
  {
   "cell_type": "markdown",
   "metadata": {},
   "source": [
    "Name of the cohorts cooler than Ada"
   ]
  },
  {
   "cell_type": "code",
   "execution_count": 50,
   "metadata": {},
   "outputs": [
    {
     "data": {
      "text/plain": [
       "['Ada', 'Bayes', 'Curie']"
      ]
     },
     "execution_count": 50,
     "metadata": {},
     "output_type": "execute_result"
    }
   ],
   "source": [
    "[cohort['name'] for cohort in cohorts]"
   ]
  },
  {
   "cell_type": "code",
   "execution_count": 66,
   "metadata": {},
   "outputs": [
    {
     "data": {
      "text/plain": [
       "['Bayes', 'Curie']"
      ]
     },
     "execution_count": 66,
     "metadata": {},
     "output_type": "execute_result"
    }
   ],
   "source": [
    "[cohort['name'] for cohort in cohorts if cohort['coolness'] >= 5]"
   ]
  },
  {
   "cell_type": "markdown",
   "metadata": {},
   "source": [
    "Programatic way to do it"
   ]
  },
  {
   "cell_type": "code",
   "execution_count": 56,
   "metadata": {},
   "outputs": [
    {
     "data": {
      "text/plain": [
       "[{'name': 'Bayes', 'n_students': 20, 'coolness': 5}]"
      ]
     },
     "execution_count": 56,
     "metadata": {},
     "output_type": "execute_result"
    }
   ],
   "source": [
    "[cohort for cohort in cohorts if cohort['name'] == 'Bayes']"
   ]
  },
  {
   "cell_type": "code",
   "execution_count": 60,
   "metadata": {},
   "outputs": [
    {
     "data": {
      "text/plain": [
       "[5]"
      ]
     },
     "execution_count": 60,
     "metadata": {},
     "output_type": "execute_result"
    }
   ],
   "source": [
    "[cohort['coolness'] for cohort in cohorts if cohort['name'] == 'Bayes']"
   ]
  },
  {
   "cell_type": "code",
   "execution_count": 98,
   "metadata": {},
   "outputs": [],
   "source": [
    "bayes_coolness = [cohort['coolness'] for cohort in cohorts if cohort['name'] == 'Bayes'][0]"
   ]
  },
  {
   "cell_type": "code",
   "execution_count": 99,
   "metadata": {},
   "outputs": [
    {
     "data": {
      "text/plain": [
       "5"
      ]
     },
     "execution_count": 99,
     "metadata": {},
     "output_type": "execute_result"
    }
   ],
   "source": [
    "bayes_coolness"
   ]
  },
  {
   "cell_type": "code",
   "execution_count": 100,
   "metadata": {},
   "outputs": [
    {
     "data": {
      "text/plain": [
       "['Bayes', 'Curie']"
      ]
     },
     "execution_count": 100,
     "metadata": {},
     "output_type": "execute_result"
    }
   ],
   "source": [
    "[cohort['name'] for cohort in cohorts if cohort['coolness'] >= bayes_coolness]"
   ]
  },
  {
   "cell_type": "markdown",
   "metadata": {},
   "source": [
    "How do we find the average number of students?"
   ]
  },
  {
   "cell_type": "code",
   "execution_count": 68,
   "metadata": {},
   "outputs": [],
   "source": [
    "n_by_cohort = [cohort['n_students'] for cohort in cohorts]"
   ]
  },
  {
   "cell_type": "code",
   "execution_count": 69,
   "metadata": {},
   "outputs": [
    {
     "data": {
      "text/plain": [
       "[17, 20, 17]"
      ]
     },
     "execution_count": 69,
     "metadata": {},
     "output_type": "execute_result"
    }
   ],
   "source": [
    "n_by_cohort"
   ]
  },
  {
   "cell_type": "code",
   "execution_count": 70,
   "metadata": {},
   "outputs": [
    {
     "data": {
      "text/plain": [
       "18.0"
      ]
     },
     "execution_count": 70,
     "metadata": {},
     "output_type": "execute_result"
    }
   ],
   "source": [
    "sum(n_by_cohort) / len(n_by_cohort)"
   ]
  },
  {
   "cell_type": "markdown",
   "metadata": {},
   "source": [
    "Which right triangle with integer sides <= 10 and perimeter of 24"
   ]
  },
  {
   "cell_type": "code",
   "execution_count": 77,
   "metadata": {},
   "outputs": [
    {
     "data": {
      "text/plain": [
       "[(1, 1, 1),\n",
       " (1, 1, 1),\n",
       " (1, 1, 1),\n",
       " (1, 1, 1),\n",
       " (1, 1, 1),\n",
       " (1, 1, 1),\n",
       " (1, 1, 1),\n",
       " (1, 1, 1),\n",
       " (1, 1, 1),\n",
       " (1, 1, 1),\n",
       " (1, 2, 2),\n",
       " (1, 2, 2),\n",
       " (1, 2, 2),\n",
       " (1, 2, 2),\n",
       " (1, 2, 2),\n",
       " (1, 2, 2),\n",
       " (1, 2, 2),\n",
       " (1, 2, 2),\n",
       " (1, 2, 2),\n",
       " (1, 2, 2),\n",
       " (1, 3, 3),\n",
       " (1, 3, 3),\n",
       " (1, 3, 3),\n",
       " (1, 3, 3),\n",
       " (1, 3, 3),\n",
       " (1, 3, 3),\n",
       " (1, 3, 3),\n",
       " (1, 3, 3),\n",
       " (1, 3, 3),\n",
       " (1, 3, 3),\n",
       " (1, 4, 4),\n",
       " (1, 4, 4),\n",
       " (1, 4, 4),\n",
       " (1, 4, 4),\n",
       " (1, 4, 4),\n",
       " (1, 4, 4),\n",
       " (1, 4, 4),\n",
       " (1, 4, 4),\n",
       " (1, 4, 4),\n",
       " (1, 4, 4),\n",
       " (1, 5, 5),\n",
       " (1, 5, 5),\n",
       " (1, 5, 5),\n",
       " (1, 5, 5),\n",
       " (1, 5, 5),\n",
       " (1, 5, 5),\n",
       " (1, 5, 5),\n",
       " (1, 5, 5),\n",
       " (1, 5, 5),\n",
       " (1, 5, 5),\n",
       " (1, 6, 6),\n",
       " (1, 6, 6),\n",
       " (1, 6, 6),\n",
       " (1, 6, 6),\n",
       " (1, 6, 6),\n",
       " (1, 6, 6),\n",
       " (1, 6, 6),\n",
       " (1, 6, 6),\n",
       " (1, 6, 6),\n",
       " (1, 6, 6),\n",
       " (1, 7, 7),\n",
       " (1, 7, 7),\n",
       " (1, 7, 7),\n",
       " (1, 7, 7),\n",
       " (1, 7, 7),\n",
       " (1, 7, 7),\n",
       " (1, 7, 7),\n",
       " (1, 7, 7),\n",
       " (1, 7, 7),\n",
       " (1, 7, 7),\n",
       " (1, 8, 8),\n",
       " (1, 8, 8),\n",
       " (1, 8, 8),\n",
       " (1, 8, 8),\n",
       " (1, 8, 8),\n",
       " (1, 8, 8),\n",
       " (1, 8, 8),\n",
       " (1, 8, 8),\n",
       " (1, 8, 8),\n",
       " (1, 8, 8),\n",
       " (1, 9, 9),\n",
       " (1, 9, 9),\n",
       " (1, 9, 9),\n",
       " (1, 9, 9),\n",
       " (1, 9, 9),\n",
       " (1, 9, 9),\n",
       " (1, 9, 9),\n",
       " (1, 9, 9),\n",
       " (1, 9, 9),\n",
       " (1, 9, 9),\n",
       " (1, 10, 10),\n",
       " (1, 10, 10),\n",
       " (1, 10, 10),\n",
       " (1, 10, 10),\n",
       " (1, 10, 10),\n",
       " (1, 10, 10),\n",
       " (1, 10, 10),\n",
       " (1, 10, 10),\n",
       " (1, 10, 10),\n",
       " (1, 10, 10),\n",
       " (2, 1, 1),\n",
       " (2, 1, 1),\n",
       " (2, 1, 1),\n",
       " (2, 1, 1),\n",
       " (2, 1, 1),\n",
       " (2, 1, 1),\n",
       " (2, 1, 1),\n",
       " (2, 1, 1),\n",
       " (2, 1, 1),\n",
       " (2, 1, 1),\n",
       " (2, 2, 2),\n",
       " (2, 2, 2),\n",
       " (2, 2, 2),\n",
       " (2, 2, 2),\n",
       " (2, 2, 2),\n",
       " (2, 2, 2),\n",
       " (2, 2, 2),\n",
       " (2, 2, 2),\n",
       " (2, 2, 2),\n",
       " (2, 2, 2),\n",
       " (2, 3, 3),\n",
       " (2, 3, 3),\n",
       " (2, 3, 3),\n",
       " (2, 3, 3),\n",
       " (2, 3, 3),\n",
       " (2, 3, 3),\n",
       " (2, 3, 3),\n",
       " (2, 3, 3),\n",
       " (2, 3, 3),\n",
       " (2, 3, 3),\n",
       " (2, 4, 4),\n",
       " (2, 4, 4),\n",
       " (2, 4, 4),\n",
       " (2, 4, 4),\n",
       " (2, 4, 4),\n",
       " (2, 4, 4),\n",
       " (2, 4, 4),\n",
       " (2, 4, 4),\n",
       " (2, 4, 4),\n",
       " (2, 4, 4),\n",
       " (2, 5, 5),\n",
       " (2, 5, 5),\n",
       " (2, 5, 5),\n",
       " (2, 5, 5),\n",
       " (2, 5, 5),\n",
       " (2, 5, 5),\n",
       " (2, 5, 5),\n",
       " (2, 5, 5),\n",
       " (2, 5, 5),\n",
       " (2, 5, 5),\n",
       " (2, 6, 6),\n",
       " (2, 6, 6),\n",
       " (2, 6, 6),\n",
       " (2, 6, 6),\n",
       " (2, 6, 6),\n",
       " (2, 6, 6),\n",
       " (2, 6, 6),\n",
       " (2, 6, 6),\n",
       " (2, 6, 6),\n",
       " (2, 6, 6),\n",
       " (2, 7, 7),\n",
       " (2, 7, 7),\n",
       " (2, 7, 7),\n",
       " (2, 7, 7),\n",
       " (2, 7, 7),\n",
       " (2, 7, 7),\n",
       " (2, 7, 7),\n",
       " (2, 7, 7),\n",
       " (2, 7, 7),\n",
       " (2, 7, 7),\n",
       " (2, 8, 8),\n",
       " (2, 8, 8),\n",
       " (2, 8, 8),\n",
       " (2, 8, 8),\n",
       " (2, 8, 8),\n",
       " (2, 8, 8),\n",
       " (2, 8, 8),\n",
       " (2, 8, 8),\n",
       " (2, 8, 8),\n",
       " (2, 8, 8),\n",
       " (2, 9, 9),\n",
       " (2, 9, 9),\n",
       " (2, 9, 9),\n",
       " (2, 9, 9),\n",
       " (2, 9, 9),\n",
       " (2, 9, 9),\n",
       " (2, 9, 9),\n",
       " (2, 9, 9),\n",
       " (2, 9, 9),\n",
       " (2, 9, 9),\n",
       " (2, 10, 10),\n",
       " (2, 10, 10),\n",
       " (2, 10, 10),\n",
       " (2, 10, 10),\n",
       " (2, 10, 10),\n",
       " (2, 10, 10),\n",
       " (2, 10, 10),\n",
       " (2, 10, 10),\n",
       " (2, 10, 10),\n",
       " (2, 10, 10),\n",
       " (3, 1, 1),\n",
       " (3, 1, 1),\n",
       " (3, 1, 1),\n",
       " (3, 1, 1),\n",
       " (3, 1, 1),\n",
       " (3, 1, 1),\n",
       " (3, 1, 1),\n",
       " (3, 1, 1),\n",
       " (3, 1, 1),\n",
       " (3, 1, 1),\n",
       " (3, 2, 2),\n",
       " (3, 2, 2),\n",
       " (3, 2, 2),\n",
       " (3, 2, 2),\n",
       " (3, 2, 2),\n",
       " (3, 2, 2),\n",
       " (3, 2, 2),\n",
       " (3, 2, 2),\n",
       " (3, 2, 2),\n",
       " (3, 2, 2),\n",
       " (3, 3, 3),\n",
       " (3, 3, 3),\n",
       " (3, 3, 3),\n",
       " (3, 3, 3),\n",
       " (3, 3, 3),\n",
       " (3, 3, 3),\n",
       " (3, 3, 3),\n",
       " (3, 3, 3),\n",
       " (3, 3, 3),\n",
       " (3, 3, 3),\n",
       " (3, 4, 4),\n",
       " (3, 4, 4),\n",
       " (3, 4, 4),\n",
       " (3, 4, 4),\n",
       " (3, 4, 4),\n",
       " (3, 4, 4),\n",
       " (3, 4, 4),\n",
       " (3, 4, 4),\n",
       " (3, 4, 4),\n",
       " (3, 4, 4),\n",
       " (3, 5, 5),\n",
       " (3, 5, 5),\n",
       " (3, 5, 5),\n",
       " (3, 5, 5),\n",
       " (3, 5, 5),\n",
       " (3, 5, 5),\n",
       " (3, 5, 5),\n",
       " (3, 5, 5),\n",
       " (3, 5, 5),\n",
       " (3, 5, 5),\n",
       " (3, 6, 6),\n",
       " (3, 6, 6),\n",
       " (3, 6, 6),\n",
       " (3, 6, 6),\n",
       " (3, 6, 6),\n",
       " (3, 6, 6),\n",
       " (3, 6, 6),\n",
       " (3, 6, 6),\n",
       " (3, 6, 6),\n",
       " (3, 6, 6),\n",
       " (3, 7, 7),\n",
       " (3, 7, 7),\n",
       " (3, 7, 7),\n",
       " (3, 7, 7),\n",
       " (3, 7, 7),\n",
       " (3, 7, 7),\n",
       " (3, 7, 7),\n",
       " (3, 7, 7),\n",
       " (3, 7, 7),\n",
       " (3, 7, 7),\n",
       " (3, 8, 8),\n",
       " (3, 8, 8),\n",
       " (3, 8, 8),\n",
       " (3, 8, 8),\n",
       " (3, 8, 8),\n",
       " (3, 8, 8),\n",
       " (3, 8, 8),\n",
       " (3, 8, 8),\n",
       " (3, 8, 8),\n",
       " (3, 8, 8),\n",
       " (3, 9, 9),\n",
       " (3, 9, 9),\n",
       " (3, 9, 9),\n",
       " (3, 9, 9),\n",
       " (3, 9, 9),\n",
       " (3, 9, 9),\n",
       " (3, 9, 9),\n",
       " (3, 9, 9),\n",
       " (3, 9, 9),\n",
       " (3, 9, 9),\n",
       " (3, 10, 10),\n",
       " (3, 10, 10),\n",
       " (3, 10, 10),\n",
       " (3, 10, 10),\n",
       " (3, 10, 10),\n",
       " (3, 10, 10),\n",
       " (3, 10, 10),\n",
       " (3, 10, 10),\n",
       " (3, 10, 10),\n",
       " (3, 10, 10),\n",
       " (4, 1, 1),\n",
       " (4, 1, 1),\n",
       " (4, 1, 1),\n",
       " (4, 1, 1),\n",
       " (4, 1, 1),\n",
       " (4, 1, 1),\n",
       " (4, 1, 1),\n",
       " (4, 1, 1),\n",
       " (4, 1, 1),\n",
       " (4, 1, 1),\n",
       " (4, 2, 2),\n",
       " (4, 2, 2),\n",
       " (4, 2, 2),\n",
       " (4, 2, 2),\n",
       " (4, 2, 2),\n",
       " (4, 2, 2),\n",
       " (4, 2, 2),\n",
       " (4, 2, 2),\n",
       " (4, 2, 2),\n",
       " (4, 2, 2),\n",
       " (4, 3, 3),\n",
       " (4, 3, 3),\n",
       " (4, 3, 3),\n",
       " (4, 3, 3),\n",
       " (4, 3, 3),\n",
       " (4, 3, 3),\n",
       " (4, 3, 3),\n",
       " (4, 3, 3),\n",
       " (4, 3, 3),\n",
       " (4, 3, 3),\n",
       " (4, 4, 4),\n",
       " (4, 4, 4),\n",
       " (4, 4, 4),\n",
       " (4, 4, 4),\n",
       " (4, 4, 4),\n",
       " (4, 4, 4),\n",
       " (4, 4, 4),\n",
       " (4, 4, 4),\n",
       " (4, 4, 4),\n",
       " (4, 4, 4),\n",
       " (4, 5, 5),\n",
       " (4, 5, 5),\n",
       " (4, 5, 5),\n",
       " (4, 5, 5),\n",
       " (4, 5, 5),\n",
       " (4, 5, 5),\n",
       " (4, 5, 5),\n",
       " (4, 5, 5),\n",
       " (4, 5, 5),\n",
       " (4, 5, 5),\n",
       " (4, 6, 6),\n",
       " (4, 6, 6),\n",
       " (4, 6, 6),\n",
       " (4, 6, 6),\n",
       " (4, 6, 6),\n",
       " (4, 6, 6),\n",
       " (4, 6, 6),\n",
       " (4, 6, 6),\n",
       " (4, 6, 6),\n",
       " (4, 6, 6),\n",
       " (4, 7, 7),\n",
       " (4, 7, 7),\n",
       " (4, 7, 7),\n",
       " (4, 7, 7),\n",
       " (4, 7, 7),\n",
       " (4, 7, 7),\n",
       " (4, 7, 7),\n",
       " (4, 7, 7),\n",
       " (4, 7, 7),\n",
       " (4, 7, 7),\n",
       " (4, 8, 8),\n",
       " (4, 8, 8),\n",
       " (4, 8, 8),\n",
       " (4, 8, 8),\n",
       " (4, 8, 8),\n",
       " (4, 8, 8),\n",
       " (4, 8, 8),\n",
       " (4, 8, 8),\n",
       " (4, 8, 8),\n",
       " (4, 8, 8),\n",
       " (4, 9, 9),\n",
       " (4, 9, 9),\n",
       " (4, 9, 9),\n",
       " (4, 9, 9),\n",
       " (4, 9, 9),\n",
       " (4, 9, 9),\n",
       " (4, 9, 9),\n",
       " (4, 9, 9),\n",
       " (4, 9, 9),\n",
       " (4, 9, 9),\n",
       " (4, 10, 10),\n",
       " (4, 10, 10),\n",
       " (4, 10, 10),\n",
       " (4, 10, 10),\n",
       " (4, 10, 10),\n",
       " (4, 10, 10),\n",
       " (4, 10, 10),\n",
       " (4, 10, 10),\n",
       " (4, 10, 10),\n",
       " (4, 10, 10),\n",
       " (5, 1, 1),\n",
       " (5, 1, 1),\n",
       " (5, 1, 1),\n",
       " (5, 1, 1),\n",
       " (5, 1, 1),\n",
       " (5, 1, 1),\n",
       " (5, 1, 1),\n",
       " (5, 1, 1),\n",
       " (5, 1, 1),\n",
       " (5, 1, 1),\n",
       " (5, 2, 2),\n",
       " (5, 2, 2),\n",
       " (5, 2, 2),\n",
       " (5, 2, 2),\n",
       " (5, 2, 2),\n",
       " (5, 2, 2),\n",
       " (5, 2, 2),\n",
       " (5, 2, 2),\n",
       " (5, 2, 2),\n",
       " (5, 2, 2),\n",
       " (5, 3, 3),\n",
       " (5, 3, 3),\n",
       " (5, 3, 3),\n",
       " (5, 3, 3),\n",
       " (5, 3, 3),\n",
       " (5, 3, 3),\n",
       " (5, 3, 3),\n",
       " (5, 3, 3),\n",
       " (5, 3, 3),\n",
       " (5, 3, 3),\n",
       " (5, 4, 4),\n",
       " (5, 4, 4),\n",
       " (5, 4, 4),\n",
       " (5, 4, 4),\n",
       " (5, 4, 4),\n",
       " (5, 4, 4),\n",
       " (5, 4, 4),\n",
       " (5, 4, 4),\n",
       " (5, 4, 4),\n",
       " (5, 4, 4),\n",
       " (5, 5, 5),\n",
       " (5, 5, 5),\n",
       " (5, 5, 5),\n",
       " (5, 5, 5),\n",
       " (5, 5, 5),\n",
       " (5, 5, 5),\n",
       " (5, 5, 5),\n",
       " (5, 5, 5),\n",
       " (5, 5, 5),\n",
       " (5, 5, 5),\n",
       " (5, 6, 6),\n",
       " (5, 6, 6),\n",
       " (5, 6, 6),\n",
       " (5, 6, 6),\n",
       " (5, 6, 6),\n",
       " (5, 6, 6),\n",
       " (5, 6, 6),\n",
       " (5, 6, 6),\n",
       " (5, 6, 6),\n",
       " (5, 6, 6),\n",
       " (5, 7, 7),\n",
       " (5, 7, 7),\n",
       " (5, 7, 7),\n",
       " (5, 7, 7),\n",
       " (5, 7, 7),\n",
       " (5, 7, 7),\n",
       " (5, 7, 7),\n",
       " (5, 7, 7),\n",
       " (5, 7, 7),\n",
       " (5, 7, 7),\n",
       " (5, 8, 8),\n",
       " (5, 8, 8),\n",
       " (5, 8, 8),\n",
       " (5, 8, 8),\n",
       " (5, 8, 8),\n",
       " (5, 8, 8),\n",
       " (5, 8, 8),\n",
       " (5, 8, 8),\n",
       " (5, 8, 8),\n",
       " (5, 8, 8),\n",
       " (5, 9, 9),\n",
       " (5, 9, 9),\n",
       " (5, 9, 9),\n",
       " (5, 9, 9),\n",
       " (5, 9, 9),\n",
       " (5, 9, 9),\n",
       " (5, 9, 9),\n",
       " (5, 9, 9),\n",
       " (5, 9, 9),\n",
       " (5, 9, 9),\n",
       " (5, 10, 10),\n",
       " (5, 10, 10),\n",
       " (5, 10, 10),\n",
       " (5, 10, 10),\n",
       " (5, 10, 10),\n",
       " (5, 10, 10),\n",
       " (5, 10, 10),\n",
       " (5, 10, 10),\n",
       " (5, 10, 10),\n",
       " (5, 10, 10),\n",
       " (6, 1, 1),\n",
       " (6, 1, 1),\n",
       " (6, 1, 1),\n",
       " (6, 1, 1),\n",
       " (6, 1, 1),\n",
       " (6, 1, 1),\n",
       " (6, 1, 1),\n",
       " (6, 1, 1),\n",
       " (6, 1, 1),\n",
       " (6, 1, 1),\n",
       " (6, 2, 2),\n",
       " (6, 2, 2),\n",
       " (6, 2, 2),\n",
       " (6, 2, 2),\n",
       " (6, 2, 2),\n",
       " (6, 2, 2),\n",
       " (6, 2, 2),\n",
       " (6, 2, 2),\n",
       " (6, 2, 2),\n",
       " (6, 2, 2),\n",
       " (6, 3, 3),\n",
       " (6, 3, 3),\n",
       " (6, 3, 3),\n",
       " (6, 3, 3),\n",
       " (6, 3, 3),\n",
       " (6, 3, 3),\n",
       " (6, 3, 3),\n",
       " (6, 3, 3),\n",
       " (6, 3, 3),\n",
       " (6, 3, 3),\n",
       " (6, 4, 4),\n",
       " (6, 4, 4),\n",
       " (6, 4, 4),\n",
       " (6, 4, 4),\n",
       " (6, 4, 4),\n",
       " (6, 4, 4),\n",
       " (6, 4, 4),\n",
       " (6, 4, 4),\n",
       " (6, 4, 4),\n",
       " (6, 4, 4),\n",
       " (6, 5, 5),\n",
       " (6, 5, 5),\n",
       " (6, 5, 5),\n",
       " (6, 5, 5),\n",
       " (6, 5, 5),\n",
       " (6, 5, 5),\n",
       " (6, 5, 5),\n",
       " (6, 5, 5),\n",
       " (6, 5, 5),\n",
       " (6, 5, 5),\n",
       " (6, 6, 6),\n",
       " (6, 6, 6),\n",
       " (6, 6, 6),\n",
       " (6, 6, 6),\n",
       " (6, 6, 6),\n",
       " (6, 6, 6),\n",
       " (6, 6, 6),\n",
       " (6, 6, 6),\n",
       " (6, 6, 6),\n",
       " (6, 6, 6),\n",
       " (6, 7, 7),\n",
       " (6, 7, 7),\n",
       " (6, 7, 7),\n",
       " (6, 7, 7),\n",
       " (6, 7, 7),\n",
       " (6, 7, 7),\n",
       " (6, 7, 7),\n",
       " (6, 7, 7),\n",
       " (6, 7, 7),\n",
       " (6, 7, 7),\n",
       " (6, 8, 8),\n",
       " (6, 8, 8),\n",
       " (6, 8, 8),\n",
       " (6, 8, 8),\n",
       " (6, 8, 8),\n",
       " (6, 8, 8),\n",
       " (6, 8, 8),\n",
       " (6, 8, 8),\n",
       " (6, 8, 8),\n",
       " (6, 8, 8),\n",
       " (6, 9, 9),\n",
       " (6, 9, 9),\n",
       " (6, 9, 9),\n",
       " (6, 9, 9),\n",
       " (6, 9, 9),\n",
       " (6, 9, 9),\n",
       " (6, 9, 9),\n",
       " (6, 9, 9),\n",
       " (6, 9, 9),\n",
       " (6, 9, 9),\n",
       " (6, 10, 10),\n",
       " (6, 10, 10),\n",
       " (6, 10, 10),\n",
       " (6, 10, 10),\n",
       " (6, 10, 10),\n",
       " (6, 10, 10),\n",
       " (6, 10, 10),\n",
       " (6, 10, 10),\n",
       " (6, 10, 10),\n",
       " (6, 10, 10),\n",
       " (7, 1, 1),\n",
       " (7, 1, 1),\n",
       " (7, 1, 1),\n",
       " (7, 1, 1),\n",
       " (7, 1, 1),\n",
       " (7, 1, 1),\n",
       " (7, 1, 1),\n",
       " (7, 1, 1),\n",
       " (7, 1, 1),\n",
       " (7, 1, 1),\n",
       " (7, 2, 2),\n",
       " (7, 2, 2),\n",
       " (7, 2, 2),\n",
       " (7, 2, 2),\n",
       " (7, 2, 2),\n",
       " (7, 2, 2),\n",
       " (7, 2, 2),\n",
       " (7, 2, 2),\n",
       " (7, 2, 2),\n",
       " (7, 2, 2),\n",
       " (7, 3, 3),\n",
       " (7, 3, 3),\n",
       " (7, 3, 3),\n",
       " (7, 3, 3),\n",
       " (7, 3, 3),\n",
       " (7, 3, 3),\n",
       " (7, 3, 3),\n",
       " (7, 3, 3),\n",
       " (7, 3, 3),\n",
       " (7, 3, 3),\n",
       " (7, 4, 4),\n",
       " (7, 4, 4),\n",
       " (7, 4, 4),\n",
       " (7, 4, 4),\n",
       " (7, 4, 4),\n",
       " (7, 4, 4),\n",
       " (7, 4, 4),\n",
       " (7, 4, 4),\n",
       " (7, 4, 4),\n",
       " (7, 4, 4),\n",
       " (7, 5, 5),\n",
       " (7, 5, 5),\n",
       " (7, 5, 5),\n",
       " (7, 5, 5),\n",
       " (7, 5, 5),\n",
       " (7, 5, 5),\n",
       " (7, 5, 5),\n",
       " (7, 5, 5),\n",
       " (7, 5, 5),\n",
       " (7, 5, 5),\n",
       " (7, 6, 6),\n",
       " (7, 6, 6),\n",
       " (7, 6, 6),\n",
       " (7, 6, 6),\n",
       " (7, 6, 6),\n",
       " (7, 6, 6),\n",
       " (7, 6, 6),\n",
       " (7, 6, 6),\n",
       " (7, 6, 6),\n",
       " (7, 6, 6),\n",
       " (7, 7, 7),\n",
       " (7, 7, 7),\n",
       " (7, 7, 7),\n",
       " (7, 7, 7),\n",
       " (7, 7, 7),\n",
       " (7, 7, 7),\n",
       " (7, 7, 7),\n",
       " (7, 7, 7),\n",
       " (7, 7, 7),\n",
       " (7, 7, 7),\n",
       " (7, 8, 8),\n",
       " (7, 8, 8),\n",
       " (7, 8, 8),\n",
       " (7, 8, 8),\n",
       " (7, 8, 8),\n",
       " (7, 8, 8),\n",
       " (7, 8, 8),\n",
       " (7, 8, 8),\n",
       " (7, 8, 8),\n",
       " (7, 8, 8),\n",
       " (7, 9, 9),\n",
       " (7, 9, 9),\n",
       " (7, 9, 9),\n",
       " (7, 9, 9),\n",
       " (7, 9, 9),\n",
       " (7, 9, 9),\n",
       " (7, 9, 9),\n",
       " (7, 9, 9),\n",
       " (7, 9, 9),\n",
       " (7, 9, 9),\n",
       " (7, 10, 10),\n",
       " (7, 10, 10),\n",
       " (7, 10, 10),\n",
       " (7, 10, 10),\n",
       " (7, 10, 10),\n",
       " (7, 10, 10),\n",
       " (7, 10, 10),\n",
       " (7, 10, 10),\n",
       " (7, 10, 10),\n",
       " (7, 10, 10),\n",
       " (8, 1, 1),\n",
       " (8, 1, 1),\n",
       " (8, 1, 1),\n",
       " (8, 1, 1),\n",
       " (8, 1, 1),\n",
       " (8, 1, 1),\n",
       " (8, 1, 1),\n",
       " (8, 1, 1),\n",
       " (8, 1, 1),\n",
       " (8, 1, 1),\n",
       " (8, 2, 2),\n",
       " (8, 2, 2),\n",
       " (8, 2, 2),\n",
       " (8, 2, 2),\n",
       " (8, 2, 2),\n",
       " (8, 2, 2),\n",
       " (8, 2, 2),\n",
       " (8, 2, 2),\n",
       " (8, 2, 2),\n",
       " (8, 2, 2),\n",
       " (8, 3, 3),\n",
       " (8, 3, 3),\n",
       " (8, 3, 3),\n",
       " (8, 3, 3),\n",
       " (8, 3, 3),\n",
       " (8, 3, 3),\n",
       " (8, 3, 3),\n",
       " (8, 3, 3),\n",
       " (8, 3, 3),\n",
       " (8, 3, 3),\n",
       " (8, 4, 4),\n",
       " (8, 4, 4),\n",
       " (8, 4, 4),\n",
       " (8, 4, 4),\n",
       " (8, 4, 4),\n",
       " (8, 4, 4),\n",
       " (8, 4, 4),\n",
       " (8, 4, 4),\n",
       " (8, 4, 4),\n",
       " (8, 4, 4),\n",
       " (8, 5, 5),\n",
       " (8, 5, 5),\n",
       " (8, 5, 5),\n",
       " (8, 5, 5),\n",
       " (8, 5, 5),\n",
       " (8, 5, 5),\n",
       " (8, 5, 5),\n",
       " (8, 5, 5),\n",
       " (8, 5, 5),\n",
       " (8, 5, 5),\n",
       " (8, 6, 6),\n",
       " (8, 6, 6),\n",
       " (8, 6, 6),\n",
       " (8, 6, 6),\n",
       " (8, 6, 6),\n",
       " (8, 6, 6),\n",
       " (8, 6, 6),\n",
       " (8, 6, 6),\n",
       " (8, 6, 6),\n",
       " (8, 6, 6),\n",
       " (8, 7, 7),\n",
       " (8, 7, 7),\n",
       " (8, 7, 7),\n",
       " (8, 7, 7),\n",
       " (8, 7, 7),\n",
       " (8, 7, 7),\n",
       " (8, 7, 7),\n",
       " (8, 7, 7),\n",
       " (8, 7, 7),\n",
       " (8, 7, 7),\n",
       " (8, 8, 8),\n",
       " (8, 8, 8),\n",
       " (8, 8, 8),\n",
       " (8, 8, 8),\n",
       " (8, 8, 8),\n",
       " (8, 8, 8),\n",
       " (8, 8, 8),\n",
       " (8, 8, 8),\n",
       " (8, 8, 8),\n",
       " (8, 8, 8),\n",
       " (8, 9, 9),\n",
       " (8, 9, 9),\n",
       " (8, 9, 9),\n",
       " (8, 9, 9),\n",
       " (8, 9, 9),\n",
       " (8, 9, 9),\n",
       " (8, 9, 9),\n",
       " (8, 9, 9),\n",
       " (8, 9, 9),\n",
       " (8, 9, 9),\n",
       " (8, 10, 10),\n",
       " (8, 10, 10),\n",
       " (8, 10, 10),\n",
       " (8, 10, 10),\n",
       " (8, 10, 10),\n",
       " (8, 10, 10),\n",
       " (8, 10, 10),\n",
       " (8, 10, 10),\n",
       " (8, 10, 10),\n",
       " (8, 10, 10),\n",
       " (9, 1, 1),\n",
       " (9, 1, 1),\n",
       " (9, 1, 1),\n",
       " (9, 1, 1),\n",
       " (9, 1, 1),\n",
       " (9, 1, 1),\n",
       " (9, 1, 1),\n",
       " (9, 1, 1),\n",
       " (9, 1, 1),\n",
       " (9, 1, 1),\n",
       " (9, 2, 2),\n",
       " (9, 2, 2),\n",
       " (9, 2, 2),\n",
       " (9, 2, 2),\n",
       " (9, 2, 2),\n",
       " (9, 2, 2),\n",
       " (9, 2, 2),\n",
       " (9, 2, 2),\n",
       " (9, 2, 2),\n",
       " (9, 2, 2),\n",
       " (9, 3, 3),\n",
       " (9, 3, 3),\n",
       " (9, 3, 3),\n",
       " (9, 3, 3),\n",
       " (9, 3, 3),\n",
       " (9, 3, 3),\n",
       " (9, 3, 3),\n",
       " (9, 3, 3),\n",
       " (9, 3, 3),\n",
       " (9, 3, 3),\n",
       " (9, 4, 4),\n",
       " (9, 4, 4),\n",
       " (9, 4, 4),\n",
       " (9, 4, 4),\n",
       " (9, 4, 4),\n",
       " (9, 4, 4),\n",
       " (9, 4, 4),\n",
       " (9, 4, 4),\n",
       " (9, 4, 4),\n",
       " (9, 4, 4),\n",
       " (9, 5, 5),\n",
       " (9, 5, 5),\n",
       " (9, 5, 5),\n",
       " (9, 5, 5),\n",
       " (9, 5, 5),\n",
       " (9, 5, 5),\n",
       " (9, 5, 5),\n",
       " (9, 5, 5),\n",
       " (9, 5, 5),\n",
       " (9, 5, 5),\n",
       " (9, 6, 6),\n",
       " (9, 6, 6),\n",
       " (9, 6, 6),\n",
       " (9, 6, 6),\n",
       " (9, 6, 6),\n",
       " (9, 6, 6),\n",
       " (9, 6, 6),\n",
       " (9, 6, 6),\n",
       " (9, 6, 6),\n",
       " (9, 6, 6),\n",
       " (9, 7, 7),\n",
       " (9, 7, 7),\n",
       " (9, 7, 7),\n",
       " (9, 7, 7),\n",
       " (9, 7, 7),\n",
       " (9, 7, 7),\n",
       " (9, 7, 7),\n",
       " (9, 7, 7),\n",
       " (9, 7, 7),\n",
       " (9, 7, 7),\n",
       " (9, 8, 8),\n",
       " (9, 8, 8),\n",
       " (9, 8, 8),\n",
       " (9, 8, 8),\n",
       " (9, 8, 8),\n",
       " (9, 8, 8),\n",
       " (9, 8, 8),\n",
       " (9, 8, 8),\n",
       " (9, 8, 8),\n",
       " (9, 8, 8),\n",
       " (9, 9, 9),\n",
       " (9, 9, 9),\n",
       " (9, 9, 9),\n",
       " (9, 9, 9),\n",
       " (9, 9, 9),\n",
       " (9, 9, 9),\n",
       " (9, 9, 9),\n",
       " (9, 9, 9),\n",
       " (9, 9, 9),\n",
       " (9, 9, 9),\n",
       " (9, 10, 10),\n",
       " (9, 10, 10),\n",
       " (9, 10, 10),\n",
       " (9, 10, 10),\n",
       " (9, 10, 10),\n",
       " (9, 10, 10),\n",
       " (9, 10, 10),\n",
       " (9, 10, 10),\n",
       " (9, 10, 10),\n",
       " (9, 10, 10),\n",
       " (10, 1, 1),\n",
       " (10, 1, 1),\n",
       " (10, 1, 1),\n",
       " (10, 1, 1),\n",
       " (10, 1, 1),\n",
       " (10, 1, 1),\n",
       " (10, 1, 1),\n",
       " (10, 1, 1),\n",
       " (10, 1, 1),\n",
       " (10, 1, 1),\n",
       " (10, 2, 2),\n",
       " (10, 2, 2),\n",
       " (10, 2, 2),\n",
       " (10, 2, 2),\n",
       " (10, 2, 2),\n",
       " (10, 2, 2),\n",
       " (10, 2, 2),\n",
       " (10, 2, 2),\n",
       " (10, 2, 2),\n",
       " (10, 2, 2),\n",
       " (10, 3, 3),\n",
       " (10, 3, 3),\n",
       " (10, 3, 3),\n",
       " (10, 3, 3),\n",
       " (10, 3, 3),\n",
       " (10, 3, 3),\n",
       " (10, 3, 3),\n",
       " (10, 3, 3),\n",
       " (10, 3, 3),\n",
       " (10, 3, 3),\n",
       " (10, 4, 4),\n",
       " (10, 4, 4),\n",
       " (10, 4, 4),\n",
       " (10, 4, 4),\n",
       " (10, 4, 4),\n",
       " (10, 4, 4),\n",
       " (10, 4, 4),\n",
       " (10, 4, 4),\n",
       " (10, 4, 4),\n",
       " (10, 4, 4),\n",
       " (10, 5, 5),\n",
       " (10, 5, 5),\n",
       " (10, 5, 5),\n",
       " (10, 5, 5),\n",
       " (10, 5, 5),\n",
       " (10, 5, 5),\n",
       " (10, 5, 5),\n",
       " (10, 5, 5),\n",
       " (10, 5, 5),\n",
       " (10, 5, 5),\n",
       " (10, 6, 6),\n",
       " (10, 6, 6),\n",
       " (10, 6, 6),\n",
       " (10, 6, 6),\n",
       " (10, 6, 6),\n",
       " (10, 6, 6),\n",
       " (10, 6, 6),\n",
       " (10, 6, 6),\n",
       " (10, 6, 6),\n",
       " (10, 6, 6),\n",
       " (10, 7, 7),\n",
       " (10, 7, 7),\n",
       " (10, 7, 7),\n",
       " (10, 7, 7),\n",
       " (10, 7, 7),\n",
       " (10, 7, 7),\n",
       " (10, 7, 7),\n",
       " (10, 7, 7),\n",
       " (10, 7, 7),\n",
       " (10, 7, 7),\n",
       " (10, 8, 8),\n",
       " (10, 8, 8),\n",
       " (10, 8, 8),\n",
       " (10, 8, 8),\n",
       " (10, 8, 8),\n",
       " (10, 8, 8),\n",
       " (10, 8, 8),\n",
       " (10, 8, 8),\n",
       " (10, 8, 8),\n",
       " (10, 8, 8),\n",
       " (10, 9, 9),\n",
       " (10, 9, 9),\n",
       " (10, 9, 9),\n",
       " (10, 9, 9),\n",
       " (10, 9, 9),\n",
       " (10, 9, 9),\n",
       " (10, 9, 9),\n",
       " (10, 9, 9),\n",
       " (10, 9, 9),\n",
       " (10, 9, 9),\n",
       " (10, 10, 10),\n",
       " (10, 10, 10),\n",
       " (10, 10, 10),\n",
       " (10, 10, 10),\n",
       " (10, 10, 10),\n",
       " (10, 10, 10),\n",
       " (10, 10, 10),\n",
       " (10, 10, 10),\n",
       " (10, 10, 10),\n",
       " (10, 10, 10)]"
      ]
     },
     "execution_count": 77,
     "metadata": {},
     "output_type": "execute_result"
    }
   ],
   "source": [
    "[(a, b, b) for a in range(1,11) for b in range(1,11) for c in range(1,11)]"
   ]
  },
  {
   "cell_type": "code",
   "execution_count": 79,
   "metadata": {},
   "outputs": [
    {
     "data": {
      "text/plain": [
       "[(3, 4, 4), (4, 3, 3), (6, 8, 8), (8, 6, 6)]"
      ]
     },
     "execution_count": 79,
     "metadata": {},
     "output_type": "execute_result"
    }
   ],
   "source": [
    "[(a, b, b) for a in range(1,11) for b in range(1,11) for c in range(1,11) if a**2 + b**2 == c**2]"
   ]
  },
  {
   "cell_type": "code",
   "execution_count": 80,
   "metadata": {},
   "outputs": [
    {
     "data": {
      "text/plain": [
       "[(6, 8, 8), (8, 6, 6)]"
      ]
     },
     "execution_count": 80,
     "metadata": {},
     "output_type": "execute_result"
    }
   ],
   "source": [
    "[(a, b, b) for a in range(1,11) for b in range(1,11) for c in range(1,11) if a**2 + b**2 == c**2 and a + b + c == 24]"
   ]
  },
  {
   "cell_type": "code",
   "execution_count": 82,
   "metadata": {},
   "outputs": [
    {
     "data": {
      "text/plain": [
       "[(6, 8, 8)]"
      ]
     },
     "execution_count": 82,
     "metadata": {},
     "output_type": "execute_result"
    }
   ],
   "source": [
    "[(a, b, b) for a in range(1,11) for b in range(1,11) for c in range(1,11) if a**2 + b**2 == c**2 and a + b + c == 24 and a < b and b < c]"
   ]
  },
  {
   "cell_type": "code",
   "execution_count": 83,
   "metadata": {},
   "outputs": [],
   "source": [
    "students = [\n",
    "    {\n",
    "\"id\": \"100001\",\n",
    "\"student\": \"Ada Lovelace\",\n",
    "\"coffee_preference\": \"light\",\n",
    "\"course\": \"web development\",\n",
    "\"grades\": [70, 91, 82, 71],\n",
    "\"pets\": [{\"species\": \"horse\", \"age\": 8}],\n",
    "    },\n",
    "    {\n",
    "\"id\": \"100002\",\n",
    "\"student\": \"Thomas Bayes\",\n",
    "\"coffee_preference\": \"medium\",\n",
    "\"course\": \"data science\",\n",
    "\"grades\": [75, 73, 86, 100],\n",
    "\"pets\": [],\n",
    "    },\n",
    "    {\n",
    "\"id\": \"100003\",\n",
    "\"student\": \"Marie Curie\",\n",
    "\"coffee_preference\": \"light\",\n",
    "\"course\": \"web development\",\n",
    "\"grades\": [70, 89, 69, 65],\n",
    "\"pets\": [{\"species\": \"cat\", \"age\": 0}],\n",
    "    },\n",
    "    {\n",
    "\"id\": \"100004\",\n",
    "\"student\": \"Grace Hopper\",\n",
    "\"coffee_preference\": \"dark\",\n",
    "\"course\": \"data science\",\n",
    "\"grades\": [73, 66, 83, 92],\n",
    "\"pets\": [{\"species\": \"dog\", \"age\": 4}, {\"species\": \"cat\", \"age\": 4}],\n",
    "    },\n",
    "    {\n",
    "\"id\": \"100005\",\n",
    "\"student\": \"Alan Turing\",\n",
    "\"coffee_preference\": \"dark\",\n",
    "\"course\": \"web development\",\n",
    "\"grades\": [78, 98, 85, 65],\n",
    "\"pets\": [\n",
    "            {\"species\": \"horse\", \"age\": 6},\n",
    "            {\"species\": \"horse\", \"age\": 7},\n",
    "            {\"species\": \"dog\", \"age\": 5},\n",
    "        ],\n",
    "    },\n",
    "    {\n",
    "\"id\": \"100006\",\n",
    "\"student\": \"Rosalind Franklin\",\n",
    "\"coffee_preference\": \"dark\",\n",
    "\"course\": \"data science\",\n",
    "\"grades\": [76, 70, 96, 81],\n",
    "\"pets\": [],\n",
    "    },\n",
    "    {\n",
    "\"id\": \"100007\",\n",
    "\"student\": \"Elizabeth Blackwell\",\n",
    "\"coffee_preference\": \"dark\",\n",
    "\"course\": \"web development\",\n",
    "\"grades\": [69, 94, 89, 86],\n",
    "\"pets\": [{\"species\": \"cat\", \"age\": 10}],\n",
    "    },\n",
    "    {\n",
    "\"id\": \"100008\",\n",
    "\"student\": \"Rene Descartes\",\n",
    "\"coffee_preference\": \"medium\",\n",
    "\"course\": \"data science\",\n",
    "\"grades\": [87, 79, 90, 99],\n",
    "\"pets\": [{\"species\": \"cat\", \"age\": 10}, {\"species\": \"cat\", \"age\": 8}],\n",
    "    },\n",
    "    {\n",
    "\"id\": \"100009\",\n",
    "\"student\": \"Ahmed Zewail\",\n",
    "\"coffee_preference\": \"medium\",\n",
    "\"course\": \"data science\",\n",
    "\"grades\": [74, 99, 93, 89],\n",
    "\"pets\": [{\"species\": \"cat\", \"age\": 0}, {\"species\": \"cat\", \"age\": 0}],\n",
    "    },\n",
    "    {\n",
    "\"id\": \"100010\",\n",
    "\"student\": \"Chien-Shiung Wu\",\n",
    "\"coffee_preference\": \"medium\",\n",
    "\"course\": \"web development\",\n",
    "\"grades\": [82, 92, 91, 65],\n",
    "\"pets\": [{\"species\": \"cat\", \"age\": 8}],\n",
    "    },\n",
    "    {\n",
    "\"id\": \"100011\",\n",
    "\"student\": \"William Sanford Nye\",\n",
    "\"coffee_preference\": \"dark\",\n",
    "\"course\": \"data science\",\n",
    "\"grades\": [70, 92, 65, 99],\n",
    "\"pets\": [{\"species\": \"cat\", \"age\": 8}, {\"species\": \"cat\", \"age\": 5}],\n",
    "    },\n",
    "    {\n",
    "\"id\": \"100012\",\n",
    "\"student\": \"Carl Sagan\",\n",
    "\"coffee_preference\": \"medium\",\n",
    "\"course\": \"data science\",\n",
    "\"grades\": [100, 86, 91, 87],\n",
    "\"pets\": [{\"species\": \"cat\", \"age\": 10}],\n",
    "    },\n",
    "    {\n",
    "\"id\": \"100013\",\n",
    "\"student\": \"Jane Goodall\",\n",
    "\"coffee_preference\": \"light\",\n",
    "\"course\": \"web development\",\n",
    "\"grades\": [80, 70, 68, 98],\n",
    "\"pets\": [{\"species\": \"horse\", \"age\": 4}],\n",
    "    },\n",
    "    {\n",
    "\"id\": \"100014\",\n",
    "\"student\": \"Richard Feynman\",\n",
    "\"coffee_preference\": \"medium\",\n",
    "\"course\": \"web development\",\n",
    "\"grades\": [73, 99, 86, 98],\n",
    "\"pets\": [{\"species\": \"dog\", \"age\": 6}],\n",
    "    },\n",
    "]"
   ]
  },
  {
   "cell_type": "code",
   "execution_count": 84,
   "metadata": {},
   "outputs": [
    {
     "data": {
      "text/plain": [
       "[{'id': '100001',\n",
       "  'student': 'Ada Lovelace',\n",
       "  'coffee_preference': 'light',\n",
       "  'course': 'web development',\n",
       "  'grades': [70, 91, 82, 71],\n",
       "  'pets': [{'species': 'horse', 'age': 8}]},\n",
       " {'id': '100002',\n",
       "  'student': 'Thomas Bayes',\n",
       "  'coffee_preference': 'medium',\n",
       "  'course': 'data science',\n",
       "  'grades': [75, 73, 86, 100],\n",
       "  'pets': []},\n",
       " {'id': '100003',\n",
       "  'student': 'Marie Curie',\n",
       "  'coffee_preference': 'light',\n",
       "  'course': 'web development',\n",
       "  'grades': [70, 89, 69, 65],\n",
       "  'pets': [{'species': 'cat', 'age': 0}]},\n",
       " {'id': '100004',\n",
       "  'student': 'Grace Hopper',\n",
       "  'coffee_preference': 'dark',\n",
       "  'course': 'data science',\n",
       "  'grades': [73, 66, 83, 92],\n",
       "  'pets': [{'species': 'dog', 'age': 4}, {'species': 'cat', 'age': 4}]},\n",
       " {'id': '100005',\n",
       "  'student': 'Alan Turing',\n",
       "  'coffee_preference': 'dark',\n",
       "  'course': 'web development',\n",
       "  'grades': [78, 98, 85, 65],\n",
       "  'pets': [{'species': 'horse', 'age': 6},\n",
       "   {'species': 'horse', 'age': 7},\n",
       "   {'species': 'dog', 'age': 5}]},\n",
       " {'id': '100006',\n",
       "  'student': 'Rosalind Franklin',\n",
       "  'coffee_preference': 'dark',\n",
       "  'course': 'data science',\n",
       "  'grades': [76, 70, 96, 81],\n",
       "  'pets': []},\n",
       " {'id': '100007',\n",
       "  'student': 'Elizabeth Blackwell',\n",
       "  'coffee_preference': 'dark',\n",
       "  'course': 'web development',\n",
       "  'grades': [69, 94, 89, 86],\n",
       "  'pets': [{'species': 'cat', 'age': 10}]},\n",
       " {'id': '100008',\n",
       "  'student': 'Rene Descartes',\n",
       "  'coffee_preference': 'medium',\n",
       "  'course': 'data science',\n",
       "  'grades': [87, 79, 90, 99],\n",
       "  'pets': [{'species': 'cat', 'age': 10}, {'species': 'cat', 'age': 8}]},\n",
       " {'id': '100009',\n",
       "  'student': 'Ahmed Zewail',\n",
       "  'coffee_preference': 'medium',\n",
       "  'course': 'data science',\n",
       "  'grades': [74, 99, 93, 89],\n",
       "  'pets': [{'species': 'cat', 'age': 0}, {'species': 'cat', 'age': 0}]},\n",
       " {'id': '100010',\n",
       "  'student': 'Chien-Shiung Wu',\n",
       "  'coffee_preference': 'medium',\n",
       "  'course': 'web development',\n",
       "  'grades': [82, 92, 91, 65],\n",
       "  'pets': [{'species': 'cat', 'age': 8}]},\n",
       " {'id': '100011',\n",
       "  'student': 'William Sanford Nye',\n",
       "  'coffee_preference': 'dark',\n",
       "  'course': 'data science',\n",
       "  'grades': [70, 92, 65, 99],\n",
       "  'pets': [{'species': 'cat', 'age': 8}, {'species': 'cat', 'age': 5}]},\n",
       " {'id': '100012',\n",
       "  'student': 'Carl Sagan',\n",
       "  'coffee_preference': 'medium',\n",
       "  'course': 'data science',\n",
       "  'grades': [100, 86, 91, 87],\n",
       "  'pets': [{'species': 'cat', 'age': 10}]},\n",
       " {'id': '100013',\n",
       "  'student': 'Jane Goodall',\n",
       "  'coffee_preference': 'light',\n",
       "  'course': 'web development',\n",
       "  'grades': [80, 70, 68, 98],\n",
       "  'pets': [{'species': 'horse', 'age': 4}]},\n",
       " {'id': '100014',\n",
       "  'student': 'Richard Feynman',\n",
       "  'coffee_preference': 'medium',\n",
       "  'course': 'web development',\n",
       "  'grades': [73, 99, 86, 98],\n",
       "  'pets': [{'species': 'dog', 'age': 6}]}]"
      ]
     },
     "execution_count": 84,
     "metadata": {},
     "output_type": "execute_result"
    }
   ],
   "source": [
    "students"
   ]
  },
  {
   "cell_type": "markdown",
   "metadata": {},
   "source": [
    "How can we find out how many students are in this list?"
   ]
  },
  {
   "cell_type": "code",
   "execution_count": 85,
   "metadata": {},
   "outputs": [
    {
     "data": {
      "text/plain": [
       "14"
      ]
     },
     "execution_count": 85,
     "metadata": {},
     "output_type": "execute_result"
    }
   ],
   "source": [
    "len(students)"
   ]
  },
  {
   "cell_type": "code",
   "execution_count": 86,
   "metadata": {},
   "outputs": [
    {
     "data": {
      "text/plain": [
       "[{'id': '100001',\n",
       "  'student': 'Ada Lovelace',\n",
       "  'coffee_preference': 'light',\n",
       "  'course': 'web development',\n",
       "  'grades': [70, 91, 82, 71],\n",
       "  'pets': [{'species': 'horse', 'age': 8}]},\n",
       " {'id': '100002',\n",
       "  'student': 'Thomas Bayes',\n",
       "  'coffee_preference': 'medium',\n",
       "  'course': 'data science',\n",
       "  'grades': [75, 73, 86, 100],\n",
       "  'pets': []}]"
      ]
     },
     "execution_count": 86,
     "metadata": {},
     "output_type": "execute_result"
    }
   ],
   "source": [
    "students[:2]"
   ]
  },
  {
   "cell_type": "markdown",
   "metadata": {},
   "source": [
    "How many pets, on avg, do people with a preferance for a light coffee have?\n",
    "\n",
    "We are going to break this exercise down by first finding the number of students that like light coffee"
   ]
  },
  {
   "cell_type": "code",
   "execution_count": 87,
   "metadata": {},
   "outputs": [
    {
     "data": {
      "text/plain": [
       "[{'id': '100001',\n",
       "  'student': 'Ada Lovelace',\n",
       "  'coffee_preference': 'light',\n",
       "  'course': 'web development',\n",
       "  'grades': [70, 91, 82, 71],\n",
       "  'pets': [{'species': 'horse', 'age': 8}]},\n",
       " {'id': '100003',\n",
       "  'student': 'Marie Curie',\n",
       "  'coffee_preference': 'light',\n",
       "  'course': 'web development',\n",
       "  'grades': [70, 89, 69, 65],\n",
       "  'pets': [{'species': 'cat', 'age': 0}]},\n",
       " {'id': '100013',\n",
       "  'student': 'Jane Goodall',\n",
       "  'coffee_preference': 'light',\n",
       "  'course': 'web development',\n",
       "  'grades': [80, 70, 68, 98],\n",
       "  'pets': [{'species': 'horse', 'age': 4}]}]"
      ]
     },
     "execution_count": 87,
     "metadata": {},
     "output_type": "execute_result"
    }
   ],
   "source": [
    "[student for student in students if student['coffee_preference'] == 'light']"
   ]
  },
  {
   "cell_type": "markdown",
   "metadata": {},
   "source": [
    "We can then find the number of pets a student has, to figure out how to actually calculate the number of pets. Once we find how to pull the record for one student, we can then try to apply it to the rest of the population"
   ]
  },
  {
   "cell_type": "code",
   "execution_count": 88,
   "metadata": {},
   "outputs": [],
   "source": [
    "student = students[0]"
   ]
  },
  {
   "cell_type": "code",
   "execution_count": 89,
   "metadata": {},
   "outputs": [
    {
     "data": {
      "text/plain": [
       "1"
      ]
     },
     "execution_count": 89,
     "metadata": {},
     "output_type": "execute_result"
    }
   ],
   "source": [
    "len(student['pets'])"
   ]
  },
  {
   "cell_type": "markdown",
   "metadata": {},
   "source": [
    "and now we can put it all together and create a variable to find the avg"
   ]
  },
  {
   "cell_type": "code",
   "execution_count": 93,
   "metadata": {},
   "outputs": [],
   "source": [
    "n_pets = [len(student['pets']) for student in students if student['coffee_preference'] == 'light']"
   ]
  },
  {
   "cell_type": "code",
   "execution_count": 94,
   "metadata": {},
   "outputs": [],
   "source": [
    "avg_n_pets_for_light_coffee = sum(n_pets)/ len(n_pets)"
   ]
  },
  {
   "cell_type": "code",
   "execution_count": 95,
   "metadata": {},
   "outputs": [
    {
     "data": {
      "text/plain": [
       "1.0"
      ]
     },
     "execution_count": 95,
     "metadata": {},
     "output_type": "execute_result"
    }
   ],
   "source": [
    "avg_n_pets_for_light_coffee"
   ]
  }
 ],
 "metadata": {
  "kernelspec": {
   "display_name": "Python 3",
   "language": "python",
   "name": "python3"
  },
  "language_info": {
   "codemirror_mode": {
    "name": "ipython",
    "version": 3
   },
   "file_extension": ".py",
   "mimetype": "text/x-python",
   "name": "python",
   "nbconvert_exporter": "python",
   "pygments_lexer": "ipython3",
   "version": "3.7.4"
  }
 },
 "nbformat": 4,
 "nbformat_minor": 2
}
