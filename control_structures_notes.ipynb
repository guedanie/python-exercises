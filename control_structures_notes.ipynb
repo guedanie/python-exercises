{
 "cells": [
  {
   "cell_type": "markdown",
   "metadata": {},
   "source": [
    "# Control Structures\n",
    "\n",
    "The objective is to understand:\n",
    "* Conditionas: Allow us to execude code conditionally\n",
    "* Loops: Allow us to execute code repeatedly\n",
    "\n",
    "### Flow of Control:\n",
    "\n",
    "* The flow of control in a python program starts at the beggining of a script\n",
    "* Each line is executed in order from top to bottom\n",
    "\n",
    "\n",
    "#### Sequence Control Structure\n",
    "\n",
    "This is how we are already running code - which is code from top to bottom and the code runs in order of opeator precedence (PEMDAS)"
   ]
  },
  {
   "cell_type": "code",
   "execution_count": 1,
   "metadata": {},
   "outputs": [],
   "source": [
    "print('Hello World')\n",
    "print('one plus one is' , str(1+1))"
   ]
  },
  {
   "cell_type": "markdown",
   "metadata": {},
   "source": [
    "#### Selection  ==  Conditional\n",
    "\n",
    "The 'if' statement is the most basic way to execude code conditionally. \n",
    "\n",
    "An if statment consists of several parts: \n",
    "\n",
    "* The keyword if\n",
    "* A condition that evaluates a boolean value followed by a colon(:)\n",
    "* The body of the statement indented by 4 spaces\n",
    "\n",
    "Everything indented with 4 spaces up to the next line that has change in the indentation is considered the body of the if statement and all of the statements in the body will be run if the condition evaluates to True\n"
   ]
  },
  {
   "cell_type": "code",
   "execution_count": 2,
   "metadata": {},
   "outputs": [
    {
     "name": "stdout",
     "output_type": "stream",
     "text": [
      "what is your name?Bob\n",
      "Howdy, Bob. Great to see you\n",
      "My name is python\n"
     ]
    }
   ],
   "source": [
    "name = input(\"what is your name?\")\n",
    "\n",
    "if name == 'Bob':\n",
    "    print('Howdy, Bob. Great to see you')\n",
    "\n",
    "print('My name is python')"
   ]
  },
  {
   "cell_type": "code",
   "execution_count": 3,
   "metadata": {},
   "outputs": [
    {
     "name": "stdout",
     "output_type": "stream",
     "text": [
      "Bring an Umbrella\n"
     ]
    }
   ],
   "source": [
    "might_rain_today = True\n",
    "if might_rain_today:\n",
    "    print(\"Bring an Umbrella\")"
   ]
  },
  {
   "cell_type": "markdown",
   "metadata": {},
   "source": [
    "You can also have nested 'if' conditionals"
   ]
  },
  {
   "cell_type": "code",
   "execution_count": 7,
   "metadata": {},
   "outputs": [
    {
     "name": "stdout",
     "output_type": "stream",
     "text": [
      "Bring an umbrella\n"
     ]
    }
   ],
   "source": [
    "might_flood = False\n",
    "\n",
    "if might_rain_today:\n",
    "    print('Bring an umbrella')\n",
    "    if might_flood:\n",
    "        print(\"Pay attention to TXDOT alerts\")"
   ]
  },
  {
   "cell_type": "code",
   "execution_count": 10,
   "metadata": {},
   "outputs": [
    {
     "name": "stdout",
     "output_type": "stream",
     "text": [
      "This number is divisible by both 3 and 5\n"
     ]
    }
   ],
   "source": [
    "number = 15\n",
    "\n",
    "if number % 5 == 0:\n",
    "    if number % 3 == 0:\n",
    "        print(\"This number is divisible by both 3 and 5\")"
   ]
  },
  {
   "cell_type": "code",
   "execution_count": 11,
   "metadata": {},
   "outputs": [
    {
     "name": "stdout",
     "output_type": "stream",
     "text": [
      "This number is divisible by both 3 and 5\n"
     ]
    }
   ],
   "source": [
    "if number % 5 == 0 and number % 3 == 0:\n",
    "    print('This number is divisible by both 3 and 5')"
   ]
  },
  {
   "cell_type": "markdown",
   "metadata": {},
   "source": [
    "##### else / elif\n",
    "\n",
    "If the statement has a counterpart, we can use 'else' to create further forks in the program\n",
    "\n",
    "Additionally, an if statement can check multiple conditions with the 'elif' keyword"
   ]
  },
  {
   "cell_type": "code",
   "execution_count": 13,
   "metadata": {},
   "outputs": [
    {
     "name": "stdout",
     "output_type": "stream",
     "text": [
      "Take a right turn\n",
      "Keep Going!\n"
     ]
    }
   ],
   "source": [
    "direction = 'right'\n",
    "\n",
    "if direction == 'right':\n",
    "    print(\"Take a right turn\")\n",
    "else:\n",
    "    print('I don\\'t know what to do')\n",
    "\n",
    "print(\"Keep Going!\")"
   ]
  },
  {
   "cell_type": "code",
   "execution_count": 14,
   "metadata": {},
   "outputs": [
    {
     "name": "stdout",
     "output_type": "stream",
     "text": [
      "You may edit this blog post\n"
     ]
    }
   ],
   "source": [
    "is_admin = True\n",
    "is_author = True\n",
    "\n",
    "if is_admin or is_author:\n",
    "    print(\"You may edit this blog post\")\n",
    "else:\n",
    "    print(\"Access denied\")"
   ]
  },
  {
   "cell_type": "markdown",
   "metadata": {},
   "source": [
    "Conditions do require the use of bools to actually run the programs. We can use the opeators or expression to execute more complex functions, such as\n",
    "\n",
    "* Greater than >\n",
    "* Less than <\n",
    "* Equal to ==\n",
    "* Not equal != \n",
    "* and many more"
   ]
  },
  {
   "cell_type": "code",
   "execution_count": 15,
   "metadata": {},
   "outputs": [
    {
     "name": "stdout",
     "output_type": "stream",
     "text": [
      "Banana has more than 3 letters\n"
     ]
    }
   ],
   "source": [
    "if len(\"Banana\") > 3:\n",
    "    print(\"Banana has more than 3 letters\")\n",
    "else:\n",
    "    print(\"Banana has length of\", str(len(\"Banana\")))"
   ]
  },
  {
   "cell_type": "code",
   "execution_count": 20,
   "metadata": {},
   "outputs": [
    {
     "name": "stdout",
     "output_type": "stream",
     "text": [
      "Look for traffic cop's direction or treat as a stop sign\n"
     ]
    }
   ],
   "source": [
    "light_color = \"Blue\"\n",
    "\n",
    "if light_color == 'Green':\n",
    "    print(\"Go\")\n",
    "elif light_color == \"Red\":\n",
    "    print(\"Stop\")\n",
    "elif light_color == \"Yellow\":\n",
    "    print(\"Depend\")\n",
    "else:\n",
    "    print(\"Look for traffic cop's direction or treat as a stop sign\")"
   ]
  },
  {
   "cell_type": "code",
   "execution_count": 22,
   "metadata": {
    "scrolled": true
   },
   "outputs": [
    {
     "name": "stdout",
     "output_type": "stream",
     "text": [
      "Keep going\n"
     ]
    }
   ],
   "source": [
    "light_color = \"Yellow\"\n",
    "you_can_stop_safely = False\n",
    "\n",
    "if light_color == 'Green':\n",
    "    print(\"Go\")\n",
    "elif light_color == \"Red\":\n",
    "    print(\"Stop\")\n",
    "elif light_color == \"Yellow\":\n",
    "    if you_can_stop_safely:\n",
    "        print(\"Come to a fill and complete stop before the crosswalk\")\n",
    "    else:\n",
    "        print(\"Keep going\")\n",
    "else:\n",
    "    print(\"Look for traffic cop's direction or treat as a stop sign\")"
   ]
  },
  {
   "cell_type": "markdown",
   "metadata": {},
   "source": [
    "**Sidenote:**\n",
    "\n",
    "## Coding vs. Programming:\n",
    "\n",
    "Programming is a mental activity where we programmatically understand the problem and build programmatic solutions to that problem.\n",
    "\n",
    "Programming happens in your head, in conversations, on whiteboards, or paper\n",
    "\n",
    "- What are the ways we can represent the problem?\n",
    "- Identify the atomic operations (what's the smallest operation (in English) that can happen)\n",
    "- Identify the sequence of events\n",
    "- Identify the conditional execution\n",
    "- Identify any reptition\n",
    "\n",
    "#### Coding = converting or translating your programmatic solution (in pseudo-code) to a specific programming language\n"
   ]
  },
  {
   "cell_type": "code",
   "execution_count": null,
   "metadata": {},
   "outputs": [],
   "source": []
  }
 ],
 "metadata": {
  "kernelspec": {
   "display_name": "Python 3",
   "language": "python",
   "name": "python3"
  },
  "language_info": {
   "codemirror_mode": {
    "name": "ipython",
    "version": 3
   },
   "file_extension": ".py",
   "mimetype": "text/x-python",
   "name": "python",
   "nbconvert_exporter": "python",
   "pygments_lexer": "ipython3",
   "version": "3.7.4"
  }
 },
 "nbformat": 4,
 "nbformat_minor": 2
}
