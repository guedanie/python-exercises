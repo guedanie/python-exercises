{
 "cells": [
  {
   "cell_type": "markdown",
   "metadata": {},
   "source": [
    "## 1. Conditional Basics "
   ]
  },
  {
   "cell_type": "markdown",
   "metadata": {},
   "source": [
    "a. prompt the user for a day of the week, print out whther the day is Monday or not"
   ]
  },
  {
   "cell_type": "code",
   "execution_count": 34,
   "metadata": {},
   "outputs": [
    {
     "name": "stdout",
     "output_type": "stream",
     "text": [
      "What day of the week is today? monday\n",
      "Today is Monday\n"
     ]
    }
   ],
   "source": [
    "day = input(\"What day of the week is today? \")\n",
    "\n",
    "if day.lower() == 'monday':\n",
    "    print(\"Today is \" + day.title())\n",
    "else:\n",
    "    print(\"Today is not \" + day.title())\n"
   ]
  },
  {
   "cell_type": "markdown",
   "metadata": {},
   "source": [
    "b. Prompt the user for a day of the week, print out whether the day is a weekday or a weekend"
   ]
  },
  {
   "cell_type": "code",
   "execution_count": 45,
   "metadata": {},
   "outputs": [
    {
     "name": "stdout",
     "output_type": "stream",
     "text": [
      "Pick a day: Monday\n",
      "Monday is part of the week\n"
     ]
    }
   ],
   "source": [
    "week = ['Monday', 'Tueday', 'Wednesday', 'Thursday', 'Friday']\n",
    "weekend = ['Saturday', 'Sunday']\n",
    "\n",
    "day_of_week = input( \"Pick a day: \")\n",
    "\n",
    "if day_of_week in week:\n",
    "    print(day_of_week.title() + \" is part of the week\")\n",
    "elif day_of_week in weekend:\n",
    "    print(day_of_week.title() + \" is part of the weeekend\")\n",
    "else:\n",
    "    print(\"That's not a day of the week\")"
   ]
  },
  {
   "cell_type": "markdown",
   "metadata": {},
   "source": [
    "c. create variables and make up values for\n",
    "\n",
    "* the number of hours worked in one week\n",
    "* the hourly rate\n",
    "* how much the week's paycheck will be\n",
    "\n",
    "write the python code that calculates the weekly paycheck. You get paid time and a half if you work more than 40 hours"
   ]
  },
  {
   "cell_type": "code",
   "execution_count": 50,
   "metadata": {},
   "outputs": [
    {
     "name": "stdout",
     "output_type": "stream",
     "text": [
      "How many hours did you work this week? 50\n",
      "What was your hourly rate? 50\n",
      "You made $2750.0 this week, you worked 50 for an hourly rate of $50\n",
      "Would you like to calculate a different set of numbers? (y/n)n\n"
     ]
    }
   ],
   "source": [
    "while True: \n",
    "\n",
    "    n_hours_worked = int(input(\"How many hours did you work this week? \"))\n",
    "    hourly_rate = int(input(\"What was your hourly rate? \"))\n",
    "    difference = 0\n",
    "\n",
    "\n",
    "    if n_hours_worked <= 40:\n",
    "        pay_check = n_hours_worked * hourly_rate\n",
    "    elif n_hours_worked > 40:\n",
    "        difference =  n_hours_worked - 40\n",
    "        pay_check = (40 * hourly_rate) + ((difference * 1.5) * hourly_rate)\n",
    "        \n",
    "    print(f'You made ${pay_check} this week, you worked {n_hours_worked} for an hourly rate of ${hourly_rate}')\n",
    "        \n",
    "    \n",
    "    try_again = input(\"Would you like to calculate a different set of numbers? (y/n)\")\n",
    "    if try_again == 'y':\n",
    "        continue\n",
    "    else:\n",
    "        break"
   ]
  },
  {
   "cell_type": "markdown",
   "metadata": {},
   "source": [
    "## Loop Basics"
   ]
  },
  {
   "cell_type": "markdown",
   "metadata": {},
   "source": [
    "a. While\n",
    "    * Create an integer varible i with a value of 5\n",
    "    * Create a while loop that runs so long as i is less than or equal to 15\n",
    "    * Each loop iteration, output the current value of i, then increment i by one"
   ]
  },
  {
   "cell_type": "code",
   "execution_count": 24,
   "metadata": {},
   "outputs": [
    {
     "name": "stdout",
     "output_type": "stream",
     "text": [
      "5\n",
      "6\n",
      "7\n",
      "8\n",
      "9\n",
      "10\n",
      "11\n",
      "12\n",
      "13\n",
      "14\n",
      "15\n"
     ]
    }
   ],
   "source": [
    "i = 5\n",
    "\n",
    "while i <= 15:\n",
    "    print(i)\n",
    "    i += 1"
   ]
  },
  {
   "cell_type": "markdown",
   "metadata": {},
   "source": [
    "* Create a while loop that will count by 2's starting with 0 and ending at 100. Follow each number with a new line\n",
    "* Alter your loop to count backwards by 5's from 100 to -10\n",
    "* Create a while loop that starts at 2, and displays the number squared on each line while the number is less than 1,000,000. "
   ]
  },
  {
   "cell_type": "code",
   "execution_count": 1,
   "metadata": {},
   "outputs": [
    {
     "name": "stdout",
     "output_type": "stream",
     "text": [
      "0\n",
      "2\n",
      "4\n",
      "6\n",
      "8\n",
      "10\n",
      "12\n",
      "14\n",
      "16\n",
      "18\n",
      "20\n",
      "22\n",
      "24\n",
      "26\n",
      "28\n",
      "30\n",
      "32\n",
      "34\n",
      "36\n",
      "38\n",
      "40\n",
      "42\n",
      "44\n",
      "46\n",
      "48\n",
      "50\n",
      "52\n",
      "54\n",
      "56\n",
      "58\n",
      "60\n",
      "62\n",
      "64\n",
      "66\n",
      "68\n",
      "70\n",
      "72\n",
      "74\n",
      "76\n",
      "78\n",
      "80\n",
      "82\n",
      "84\n",
      "86\n",
      "88\n",
      "90\n",
      "92\n",
      "94\n",
      "96\n",
      "98\n",
      "100\n"
     ]
    }
   ],
   "source": [
    "i = 0\n",
    "\n",
    "while i <= 100:\n",
    "    print(i)\n",
    "    i += 2\n",
    "    \n"
   ]
  },
  {
   "cell_type": "code",
   "execution_count": 2,
   "metadata": {},
   "outputs": [
    {
     "name": "stdout",
     "output_type": "stream",
     "text": [
      "102\n",
      "97\n",
      "92\n",
      "87\n",
      "82\n",
      "77\n",
      "72\n",
      "67\n",
      "62\n",
      "57\n",
      "52\n",
      "47\n",
      "42\n",
      "37\n",
      "32\n",
      "27\n",
      "22\n",
      "17\n",
      "12\n",
      "7\n",
      "2\n"
     ]
    }
   ],
   "source": [
    "while i >= 0:\n",
    "    print(i)\n",
    "    i = i - 5"
   ]
  },
  {
   "cell_type": "code",
   "execution_count": 51,
   "metadata": {},
   "outputs": [
    {
     "name": "stdout",
     "output_type": "stream",
     "text": [
      "2\n",
      "4\n",
      "16\n",
      "256\n",
      "65536\n"
     ]
    }
   ],
   "source": [
    "i = 2\n",
    "\n",
    "while i < 1_000_000:\n",
    "    print(i)\n",
    "    i = i ** 2"
   ]
  },
  {
   "cell_type": "markdown",
   "metadata": {},
   "source": [
    "* Write a loop that uses print to create the output shown below"
   ]
  },
  {
   "cell_type": "code",
   "execution_count": 4,
   "metadata": {},
   "outputs": [
    {
     "name": "stdout",
     "output_type": "stream",
     "text": [
      "100\n",
      "95\n",
      "90\n",
      "85\n",
      "80\n",
      "75\n",
      "70\n",
      "65\n",
      "60\n",
      "55\n",
      "50\n",
      "45\n",
      "40\n",
      "35\n",
      "30\n",
      "25\n",
      "20\n",
      "15\n",
      "10\n",
      "5\n"
     ]
    }
   ],
   "source": [
    "i = 100 \n",
    "\n",
    "while i >= 5:\n",
    "    print(i)\n",
    "    i -= 5"
   ]
  },
  {
   "cell_type": "markdown",
   "metadata": {},
   "source": [
    "### For loops\n",
    "\n",
    "* Write some code that prompts the user for a number, then shows a multiplication table up through 10 for that number."
   ]
  },
  {
   "cell_type": "code",
   "execution_count": 53,
   "metadata": {},
   "outputs": [
    {
     "name": "stdout",
     "output_type": "stream",
     "text": [
      "Pick a number: 4\n",
      "4 x 1 = 4\n",
      "4 x 2 = 8\n",
      "4 x 3 = 12\n",
      "4 x 4 = 16\n",
      "4 x 5 = 20\n",
      "4 x 6 = 24\n",
      "4 x 7 = 28\n",
      "4 x 8 = 32\n",
      "4 x 9 = 36\n",
      "4 x 10 = 40\n"
     ]
    }
   ],
   "source": [
    "input_number = int(input(\"Pick a number: \"))\n",
    "\n",
    "for i in range(1,11):\n",
    "    print(f\"{input_number} x {i} = {input_number*i}\")"
   ]
  },
  {
   "cell_type": "markdown",
   "metadata": {},
   "source": [
    "* Create a ```for``` loop that uses ``` print ``` to create the ourput shown"
   ]
  },
  {
   "cell_type": "code",
   "execution_count": 25,
   "metadata": {},
   "outputs": [
    {
     "name": "stdout",
     "output_type": "stream",
     "text": [
      "1\n",
      "22\n",
      "333\n",
      "4444\n",
      "55555\n",
      "666666\n",
      "7777777\n",
      "88888888\n",
      "999999999\n"
     ]
    }
   ],
   "source": [
    "for i in range(1,10):\n",
    "    print(str(i)*i)"
   ]
  },
  {
   "cell_type": "markdown",
   "metadata": {},
   "source": [
    "#### Break and Continue\n",
    "\n",
    "* Prompt the user for an odd number between 1 and 50. Use a loop and a break statement to continue prompting the user if they enter invalid input. \n",
    "    \n",
    "    (Hint: use the isdigit method on strings to determine this). \n",
    "    \n",
    "    Use a loop and the continue statement to output all the odd numbers between 1 and 50, except for the number the user entered."
   ]
  },
  {
   "cell_type": "code",
   "execution_count": 79,
   "metadata": {},
   "outputs": [
    {
     "name": "stdout",
     "output_type": "stream",
     "text": [
      "Pick an odd number between 1 and 50: 5\n",
      "Here is an odd number: 1\n",
      "Here is an odd number: 3\n",
      "Yikes! Skipping number: 5\n",
      "Here is an odd number: 7\n",
      "Here is an odd number: 9\n",
      "Here is an odd number: 11\n",
      "Here is an odd number: 13\n",
      "Here is an odd number: 15\n",
      "Here is an odd number: 17\n",
      "Here is an odd number: 19\n",
      "Here is an odd number: 21\n",
      "Here is an odd number: 23\n",
      "Here is an odd number: 25\n",
      "Here is an odd number: 27\n",
      "Here is an odd number: 29\n",
      "Here is an odd number: 31\n",
      "Here is an odd number: 33\n",
      "Here is an odd number: 35\n",
      "Here is an odd number: 37\n",
      "Here is an odd number: 39\n",
      "Here is an odd number: 41\n",
      "Here is an odd number: 43\n",
      "Here is an odd number: 45\n",
      "Here is an odd number: 47\n",
      "Here is an odd number: 49\n",
      "Would you like to choose another number? (y/n): n\n",
      "This was fun!\n"
     ]
    }
   ],
   "source": [
    "while True:\n",
    "    odd_number_to_skip = input(\"Pick an odd number between 1 and 50: \")\n",
    "\n",
    "    while odd_number_to_skip.isdigit() == False or int(odd_number_to_skip) % 2 == 0 or int(odd_number_to_skip) not in range(1,50):\n",
    "        print(f\"{odd_number_to_skip} is cool, but we need a odd number between 1 and 50: \")\n",
    "        odd_number_to_skip = input(\"Pick an odd number between 1 and 50 \")\n",
    "\n",
    "    while odd_number_to_skip.isdigit() == True and int(odd_number_to_skip) % 2 != 0 and int(odd_number_to_skip) in range(1,50):\n",
    "            for i in range(1,50):\n",
    "                    if i % 2 != 0:\n",
    "                        if i == int(odd_number_to_skip):\n",
    "                            print('Yikes! Skipping number: {}' .format(odd_number_to_skip))\n",
    "                        else:\n",
    "                            print('Here is an odd number: {}' .format(i))\n",
    "            break\n",
    "\n",
    "    power_user_var = input(\"Would you like to choose another number? (y/n): \")\n",
    "    if power_user_var.lower() == 'y':\n",
    "        continue\n",
    "    else:\n",
    "        print(\"This was fun!\")\n",
    "        break\n",
    "\n",
    "\n",
    "\n",
    "\n"
   ]
  },
  {
   "cell_type": "markdown",
   "metadata": {},
   "source": [
    "* The ```input``` function can be used to prompt for input and use that input in your python code. Prompt the user to enter a positive number and write a loop that counts from 0 to that number. \n",
    "\n",
    "(Hints: first make sure that the value the user entered is a valid number, also note that the ```input``` function returns a string, so you'll need to convert this to a numeric type.)"
   ]
  },
  {
   "cell_type": "code",
   "execution_count": 85,
   "metadata": {},
   "outputs": [
    {
     "name": "stdout",
     "output_type": "stream",
     "text": [
      "Pick a positive number 1\n",
      "0\n",
      "1\n",
      "Would you like to give it another go? (y/n): n\n",
      "It was nice counting for you!\n"
     ]
    }
   ],
   "source": [
    "while True:\n",
    "    input_positive_number = input(\"Pick a positive number \")\n",
    "    i = 0\n",
    "\n",
    "    while input_positive_number.isdigit() == False or int(input_positive_number) < 0:\n",
    "        input_positive_number = input(\"Pick a positive number \")\n",
    "\n",
    "    while input_positive_number.isdigit() == True and i <= int(input_positive_number):\n",
    "        print(i)\n",
    "        i += 1\n",
    "        \n",
    "    user_power = input(\"Would you like to give it another go? (y/n): \")\n",
    "    if user_power.lower() == 'y':\n",
    "        continue\n",
    "    else:\n",
    "        print('It was nice counting for you!')\n",
    "        break"
   ]
  },
  {
   "cell_type": "markdown",
   "metadata": {},
   "source": [
    "* Write a program that prompts the user for a positive integer. Next write a loop that prints out the numbers from the number the user entered down to 1."
   ]
  },
  {
   "cell_type": "code",
   "execution_count": 94,
   "metadata": {},
   "outputs": [
    {
     "name": "stdout",
     "output_type": "stream",
     "text": [
      "Pick a positive number 5\n",
      "5\n",
      "4\n",
      "3\n",
      "2\n",
      "1\n",
      "Would you like to do it again? (y/n): y\n",
      "Pick a positive number 9\n",
      "9\n",
      "8\n",
      "7\n",
      "6\n",
      "5\n",
      "4\n",
      "3\n",
      "2\n",
      "1\n",
      "Would you like to do it again? (y/n): n\n",
      "It was a pleasure counting for you!\n"
     ]
    }
   ],
   "source": [
    "while True:\n",
    "    input_negative_number = input(\"Pick a positive number \")\n",
    "        \n",
    "    i = input_negative_number\n",
    "\n",
    "    while input_negative_number.isdigit() == False or int(input_negative_number) < 0:\n",
    "        input_negative_number = input(\"Pick a positive number \")\n",
    "\n",
    "    while input_negative_number.isdigit() == True and int(i) > 0:\n",
    "        i = int(i)\n",
    "        print(i)\n",
    "        i -= 1\n",
    "    \n",
    "    continue_variable = input(\"Would you like to do it again? (y/n): \")\n",
    "    if continue_variable.lower() == 'y':\n",
    "        continue\n",
    "    else:\n",
    "        print(\"It was a pleasure counting for you!\")\n",
    "        break\n",
    "    "
   ]
  },
  {
   "cell_type": "markdown",
   "metadata": {},
   "source": [
    "### Fizzbuzz\n",
    "\n",
    "One of the most common interview questions for entry-level programmers is the FizzBuzz test. Developed by Imran Ghory, the test is designed to test basic looping and conditional logic skills.\n",
    "\n",
    "* Write a program that prints the numbers from 1 to 100.\n",
    "* For multiples of three print \"Fizz\" instead of the number\n",
    "* For the multiples of five print \"Buzz\".\n",
    "* For numbers which are multiples of both three and five print \"FizzBuzz\"."
   ]
  },
  {
   "cell_type": "code",
   "execution_count": 144,
   "metadata": {},
   "outputs": [
    {
     "name": "stdout",
     "output_type": "stream",
     "text": [
      "1\n",
      "2\n",
      "Fizz\n",
      "4\n",
      "Buzz\n",
      "Fizz\n",
      "7\n",
      "8\n",
      "Fizz\n",
      "Buzz\n",
      "11\n",
      "Fizz\n",
      "13\n",
      "14\n",
      "FizzBuzz\n",
      "16\n",
      "17\n",
      "Fizz\n",
      "19\n",
      "Buzz\n",
      "Fizz\n",
      "22\n",
      "23\n",
      "Fizz\n",
      "Buzz\n",
      "26\n",
      "Fizz\n",
      "28\n",
      "29\n",
      "FizzBuzz\n",
      "31\n",
      "32\n",
      "Fizz\n",
      "34\n",
      "Buzz\n",
      "Fizz\n",
      "37\n",
      "38\n",
      "Fizz\n",
      "Buzz\n",
      "41\n",
      "Fizz\n",
      "43\n",
      "44\n",
      "FizzBuzz\n",
      "46\n",
      "47\n",
      "Fizz\n",
      "49\n",
      "Buzz\n",
      "Fizz\n",
      "52\n",
      "53\n",
      "Fizz\n",
      "Buzz\n",
      "56\n",
      "Fizz\n",
      "58\n",
      "59\n",
      "FizzBuzz\n",
      "61\n",
      "62\n",
      "Fizz\n",
      "64\n",
      "Buzz\n",
      "Fizz\n",
      "67\n",
      "68\n",
      "Fizz\n",
      "Buzz\n",
      "71\n",
      "Fizz\n",
      "73\n",
      "74\n",
      "FizzBuzz\n",
      "76\n",
      "77\n",
      "Fizz\n",
      "79\n",
      "Buzz\n",
      "Fizz\n",
      "82\n",
      "83\n",
      "Fizz\n",
      "Buzz\n",
      "86\n",
      "Fizz\n",
      "88\n",
      "89\n",
      "FizzBuzz\n",
      "91\n",
      "92\n",
      "Fizz\n",
      "94\n",
      "Buzz\n",
      "Fizz\n",
      "97\n",
      "98\n",
      "Fizz\n",
      "Buzz\n"
     ]
    }
   ],
   "source": [
    "for i in range(1,101):\n",
    "    if i % 5 == 0 and i % 3 == 0:\n",
    "        print(\"FizzBuzz\")\n",
    "    elif i % 5 == 0:\n",
    "        print(\"Buzz\")\n",
    "    elif i % 3 == 0:\n",
    "        print(\"Fizz\")\n",
    "    else:\n",
    "        print(i)"
   ]
  },
  {
   "cell_type": "markdown",
   "metadata": {},
   "source": [
    "### Display a table of powers\n",
    "\n",
    "* Prompt the user to enter an integer.\n",
    "* Display a table of squares and cubes from 1 to the value entered.\n",
    "* Ask if the user wants to continue.\n",
    "* Assume that the user will enter valid data.\n",
    "* Only continue if the user agrees to."
   ]
  },
  {
   "cell_type": "code",
   "execution_count": 101,
   "metadata": {
    "scrolled": true
   },
   "outputs": [
    {
     "name": "stdout",
     "output_type": "stream",
     "text": [
      "What number would you like to go up to? 5\n",
      "Number| Squared | Cubed\n",
      "2     | 1     |    1\n",
      "3     | 4     |    8\n",
      "4     | 9     |    27\n",
      "5     | 16     |    64\n",
      "6     | 25     |    125\n"
     ]
    }
   ],
   "source": [
    "input_number = int(input(\"What number would you like to go up to? \"))\n",
    "\n",
    "print(\"Number| Squared | Cubed\")\n",
    "for i in range(1, input_number + 1):\n",
    "    print(f\"{i + 1}     | {i ** 2}     |    {i ** 3}\")\n",
    "\n",
    "    \n",
    "    "
   ]
  },
  {
   "cell_type": "code",
   "execution_count": 261,
   "metadata": {},
   "outputs": [
    {
     "name": "stdout",
     "output_type": "stream",
     "text": [
      "What number would you like to go up to? 8\n",
      "number | squared | cubed \n",
      "------ | ------- | ------ \n",
      "1      |1        |1       \n",
      "2      |4        |8       \n",
      "3      |9        |27      \n",
      "4      |16       |64      \n",
      "5      |25       |125     \n",
      "6      |36       |216     \n",
      "7      |49       |343     \n",
      "8      |64       |512     \n",
      "Do you want to continue (y/n)? t\n"
     ]
    }
   ],
   "source": [
    "while True:\n",
    "    user_power_request = 0\n",
    "    while True:\n",
    "        user_power_request = input(\"What number would you like to go up to? \")\n",
    "        if not user_power_request.isdigit():\n",
    "            continue\n",
    "        \n",
    "        user_power_request = int(user_power_request)\n",
    "        break\n",
    "    print(\"number | squared | cubed \")\n",
    "    print(\"------ | ------- | ------ \")\n",
    "    for n in range(1, user_power_request + 1):\n",
    "        print((\"{:<7}|{:<9}|{:<8}\").format(n, n ** 2, n ** 3))\n",
    "    \n",
    "    user_continue = input(\"Do you want to continue (y/n)? \")\n",
    "    if user_continue.lower() == \"y\":\n",
    "        continue\n",
    "    else:\n",
    "        break\n"
   ]
  },
  {
   "cell_type": "markdown",
   "metadata": {},
   "source": [
    "### Convert given number grades into letter grades\n",
    "\n",
    "* Prompt the user for a numerical grade from 0 to 100.\n",
    "* Display the corresponding letter grade.\n",
    "* Prompt the user to continue.\n",
    "* Assume that the user will enter valid integers for the grades.\n",
    "* The application should only continue if the user agrees to.\n",
    "\n",
    ">Grade Ranges:\n",
    "\n",
    ">A : 100 - 88\n",
    "B : 87 - 80\n",
    "C : 79 - 67\n",
    "D : 66 - 60\n",
    "F : 59 - 0"
   ]
  },
  {
   "cell_type": "code",
   "execution_count": 103,
   "metadata": {},
   "outputs": [
    {
     "name": "stdout",
     "output_type": "stream",
     "text": [
      "Please pick a number between 0 and 100 : 90\n",
      "90 is an A, good job!\n",
      "Would you like to continue? (y/n) n\n",
      "Goodbye\n"
     ]
    }
   ],
   "source": [
    "while True:\n",
    "\n",
    "    grades = int(input(\"Please pick a number between 0 and 100 : \"))\n",
    "\n",
    "    while type(grades) == int:\n",
    "        if grades in range(88,100):\n",
    "            print(f\"{grades} is an A, good job!\")\n",
    "            break\n",
    "        elif grades in range(80,87):\n",
    "            print(f\"{grades} is a B\")\n",
    "            break\n",
    "        elif grades in range(67, 79):\n",
    "            print(f\"{grades} is a C\")\n",
    "            break\n",
    "        elif grades in range(60, 67):\n",
    "            print(f\"{grades} is a D\")\n",
    "            break\n",
    "        elif grades in range(0,59):\n",
    "            print(f\"{grades} is an F, you Fail\")\n",
    "            break\n",
    "    \n",
    "    continue_var = input(\"Would you like to continue? (y/n) \")\n",
    "    if continue_var.lower() == 'y':\n",
    "        continue\n",
    "    else:\n",
    "        print(\"Goodbye\")\n",
    "        break\n",
    "        \n",
    "\n",
    "        \n",
    "    "
   ]
  },
  {
   "cell_type": "markdown",
   "metadata": {},
   "source": [
    "Create a list of dictionaries where each dictionary represents a book that you have read. Each dictionary in the list should have the keys title, author, and genre. Loop through the list and print out information about each book.\n",
    "\n",
    "* Prompt the user to enter a genre, then loop through your books list and print out the titles of all the books in that genre."
   ]
  },
  {
   "cell_type": "code",
   "execution_count": 105,
   "metadata": {},
   "outputs": [],
   "source": [
    "books = [\n",
    "    {\n",
    "        \"title\": \"Enders Game\",\n",
    "        \"author\": \"Carl Orson Scott\",\n",
    "        \"genre\": \"Science Fiction\"\n",
    "    },\n",
    "     {\n",
    "        \"title\": \"Genetic Algorithms and Machine Learning for Programmers\",\n",
    "        \"genre\": \"Education\",\n",
    "        \"author\": \"Frances Buontempo\"\n",
    "    },\n",
    "    {\n",
    "        \"title\": \"The Visual Display of Quantitative Information\",\n",
    "        \"genre\": \"Education\",\n",
    "        \"author\": \"Edward Tufte\"\n",
    "    },\n",
    "    {\n",
    "        \"title\": \"Practical Object-Oriented Design\",\n",
    "        \"author\": \"Sandi Metz\",\n",
    "        \"genre\": \"Education\"\n",
    "    },\n",
    "    {\n",
    "        \"title\": \"Weapons of Math Destruction\",\n",
    "        \"author\": \"Cathy O'Neil\",\n",
    "        \"genre\": \"Eduction\"\n",
    "    },\n",
    "    {\n",
    "         \"title\": \"Harry Potter and the Philosophers Stone\",\n",
    "        \"author\": \"J.K. Rowling\",\n",
    "        \"genre\": \"Fantasy\"\n",
    "    },\n",
    "     {\n",
    "         \"title\": \"Harry Potter and the goblet of fire\",\n",
    "        \"author\": \"J.K. Rowling\",\n",
    "        \"genre\": \"Fantasy\"\n",
    "    },\n",
    "     {\n",
    "         \"title\": \"Ride of a lifetine\",\n",
    "        \"author\": \"Bob Iger\",\n",
    "        \"genre\": \"Non-Fiction\"\n",
    "    },\n",
    "    {\n",
    "         \"title\": \"Snowball\",\n",
    "        \"author\": \"Warren Buffet\",\n",
    "        \"genre\": \"Non-Fiction\"\n",
    "    }\n",
    "    \n",
    "]"
   ]
  },
  {
   "cell_type": "code",
   "execution_count": 110,
   "metadata": {},
   "outputs": [
    {
     "name": "stdout",
     "output_type": "stream",
     "text": [
      "'Enders Game' by 'Carl Orson Scott' is about 'Science Fiction'\n",
      "'Genetic Algorithms and Machine Learning for Programmers' by 'Frances Buontempo' is about 'Education'\n",
      "'The Visual Display of Quantitative Information' by 'Edward Tufte' is about 'Education'\n",
      "'Practical Object-Oriented Design' by 'Sandi Metz' is about 'Education'\n",
      "'Weapons of Math Destruction' by 'Cathy O'Neil' is about 'Eduction'\n",
      "'Harry Potter and the Philosophers Stone' by 'J.K. Rowling' is about 'Fantasy'\n",
      "'Harry Potter and the goblet of fire' by 'J.K. Rowling' is about 'Fantasy'\n",
      "'Ride of a lifetine' by 'Bob Iger' is about 'Non-Fiction'\n",
      "'Snowball' by 'Warren Buffet' is about 'Non-Fiction'\n"
     ]
    }
   ],
   "source": [
    "for book in books:\n",
    "    print(f\"'{book['title']}' by '{book['author']}' is about '{book['genre']}'\")"
   ]
  },
  {
   "cell_type": "code",
   "execution_count": 114,
   "metadata": {},
   "outputs": [
    {
     "name": "stdout",
     "output_type": "stream",
     "text": [
      "Pick a genre : education\n",
      "Genetic Algorithms and Machine Learning for Programmers\n",
      "The Visual Display of Quantitative Information\n",
      "Practical Object-Oriented Design\n",
      "Would you like to pick a different genre? (y/n) :y\n",
      "Pick a genre : science fiction\n",
      "Enders Game\n",
      "Would you like to pick a different genre? (y/n) :n\n",
      "Have a nice day!\n"
     ]
    }
   ],
   "source": [
    "while True:\n",
    "    genre_input = input(\"Pick a genre : \")\n",
    "    if genre_input.title() in [book['genre'] for book in books]:\n",
    "        book_titles = [book[\"title\"] for book in books if book[\"genre\"].lower() == genre_input.lower()]\n",
    "        print(*book_titles, sep = \"\\n\")\n",
    "    else:\n",
    "        print(f\"Sorry, there are no books about {genre_input}\")\n",
    "    promp = input(\"Would you like to pick a different genre? (y/n) :\")\n",
    "\n",
    "    if promp.lower() == 'y':\n",
    "        continue \n",
    "    else:\n",
    "        print(\"Have a nice day!\")\n",
    "        break"
   ]
  }
 ],
 "metadata": {
  "kernelspec": {
   "display_name": "Python 3",
   "language": "python",
   "name": "python3"
  },
  "language_info": {
   "codemirror_mode": {
    "name": "ipython",
    "version": 3
   },
   "file_extension": ".py",
   "mimetype": "text/x-python",
   "name": "python",
   "nbconvert_exporter": "python",
   "pygments_lexer": "ipython3",
   "version": "3.7.4"
  }
 },
 "nbformat": 4,
 "nbformat_minor": 2
}
