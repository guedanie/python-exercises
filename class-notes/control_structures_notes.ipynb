{
 "cells": [
  {
   "cell_type": "markdown",
   "metadata": {},
   "source": [
    "# Control Structures\n",
    "\n",
    "The objective is to understand:\n",
    "* Conditionas: Allow us to execude code conditionally\n",
    "* Loops: Allow us to execute code repeatedly\n",
    "\n",
    "### Flow of Control:\n",
    "\n",
    "* The flow of control in a python program starts at the beggining of a script\n",
    "* Each line is executed in order from top to bottom\n",
    "\n",
    "\n",
    "#### Sequence Control Structure\n",
    "\n",
    "This is how we are already running code - which is code from top to bottom and the code runs in order of opeator precedence (PEMDAS)"
   ]
  },
  {
   "cell_type": "code",
   "execution_count": 1,
   "metadata": {},
   "outputs": [],
   "source": [
    "print('Hello World')\n",
    "print('one plus one is' , str(1+1))"
   ]
  },
  {
   "cell_type": "markdown",
   "metadata": {},
   "source": [
    "#### Selection  ==  Conditional\n",
    "\n",
    "The 'if' statement is the most basic way to execude code conditionally. \n",
    "\n",
    "An if statment consists of several parts: \n",
    "\n",
    "* The keyword if\n",
    "* A condition that evaluates a boolean value followed by a colon(:)\n",
    "* The body of the statement indented by 4 spaces\n",
    "\n",
    "Everything indented with 4 spaces up to the next line that has change in the indentation is considered the body of the if statement and all of the statements in the body will be run if the condition evaluates to True\n"
   ]
  },
  {
   "cell_type": "code",
   "execution_count": 2,
   "metadata": {},
   "outputs": [
    {
     "name": "stdout",
     "output_type": "stream",
     "text": [
      "what is your name?Bob\n",
      "Howdy, Bob. Great to see you\n",
      "My name is python\n"
     ]
    }
   ],
   "source": [
    "name = input(\"what is your name?\")\n",
    "\n",
    "if name == 'Bob':\n",
    "    print('Howdy, Bob. Great to see you')\n",
    "\n",
    "print('My name is python')"
   ]
  },
  {
   "cell_type": "code",
   "execution_count": 3,
   "metadata": {},
   "outputs": [
    {
     "name": "stdout",
     "output_type": "stream",
     "text": [
      "Bring an Umbrella\n"
     ]
    }
   ],
   "source": [
    "might_rain_today = True\n",
    "if might_rain_today:\n",
    "    print(\"Bring an Umbrella\")"
   ]
  },
  {
   "cell_type": "markdown",
   "metadata": {},
   "source": [
    "You can also have nested 'if' conditionals"
   ]
  },
  {
   "cell_type": "code",
   "execution_count": 7,
   "metadata": {},
   "outputs": [
    {
     "name": "stdout",
     "output_type": "stream",
     "text": [
      "Bring an umbrella\n"
     ]
    }
   ],
   "source": [
    "might_flood = False\n",
    "\n",
    "if might_rain_today:\n",
    "    print('Bring an umbrella')\n",
    "    if might_flood:\n",
    "        print(\"Pay attention to TXDOT alerts\")"
   ]
  },
  {
   "cell_type": "code",
   "execution_count": 10,
   "metadata": {},
   "outputs": [
    {
     "name": "stdout",
     "output_type": "stream",
     "text": [
      "This number is divisible by both 3 and 5\n"
     ]
    }
   ],
   "source": [
    "number = 15\n",
    "\n",
    "if number % 5 == 0:\n",
    "    if number % 3 == 0:\n",
    "        print(\"This number is divisible by both 3 and 5\")"
   ]
  },
  {
   "cell_type": "code",
   "execution_count": 11,
   "metadata": {},
   "outputs": [
    {
     "name": "stdout",
     "output_type": "stream",
     "text": [
      "This number is divisible by both 3 and 5\n"
     ]
    }
   ],
   "source": [
    "if number % 5 == 0 and number % 3 == 0:\n",
    "    print('This number is divisible by both 3 and 5')"
   ]
  },
  {
   "cell_type": "markdown",
   "metadata": {},
   "source": [
    "##### else / elif\n",
    "\n",
    "If the statement has a counterpart, we can use 'else' to create further forks in the program\n",
    "\n",
    "Additionally, an if statement can check multiple conditions with the 'elif' keyword"
   ]
  },
  {
   "cell_type": "code",
   "execution_count": 13,
   "metadata": {},
   "outputs": [
    {
     "name": "stdout",
     "output_type": "stream",
     "text": [
      "Take a right turn\n",
      "Keep Going!\n"
     ]
    }
   ],
   "source": [
    "direction = 'right'\n",
    "\n",
    "if direction == 'right':\n",
    "    print(\"Take a right turn\")\n",
    "else:\n",
    "    print('I don\\'t know what to do')\n",
    "\n",
    "print(\"Keep Going!\")"
   ]
  },
  {
   "cell_type": "code",
   "execution_count": 14,
   "metadata": {},
   "outputs": [
    {
     "name": "stdout",
     "output_type": "stream",
     "text": [
      "You may edit this blog post\n"
     ]
    }
   ],
   "source": [
    "is_admin = True\n",
    "is_author = True\n",
    "\n",
    "if is_admin or is_author:\n",
    "    print(\"You may edit this blog post\")\n",
    "else:\n",
    "    print(\"Access denied\")"
   ]
  },
  {
   "cell_type": "markdown",
   "metadata": {},
   "source": [
    "Conditions do require the use of bools to actually run the programs. We can use the opeators or expression to execute more complex functions, such as\n",
    "\n",
    "* Greater than >\n",
    "* Less than <\n",
    "* Equal to ==\n",
    "* Not equal != \n",
    "* and many more"
   ]
  },
  {
   "cell_type": "code",
   "execution_count": 15,
   "metadata": {},
   "outputs": [
    {
     "name": "stdout",
     "output_type": "stream",
     "text": [
      "Banana has more than 3 letters\n"
     ]
    }
   ],
   "source": [
    "if len(\"Banana\") > 3:\n",
    "    print(\"Banana has more than 3 letters\")\n",
    "else:\n",
    "    print(\"Banana has length of\", str(len(\"Banana\")))"
   ]
  },
  {
   "cell_type": "code",
   "execution_count": 20,
   "metadata": {},
   "outputs": [
    {
     "name": "stdout",
     "output_type": "stream",
     "text": [
      "Look for traffic cop's direction or treat as a stop sign\n"
     ]
    }
   ],
   "source": [
    "light_color = \"Blue\"\n",
    "\n",
    "if light_color == 'Green':\n",
    "    print(\"Go\")\n",
    "elif light_color == \"Red\":\n",
    "    print(\"Stop\")\n",
    "elif light_color == \"Yellow\":\n",
    "    print(\"Depend\")\n",
    "else:\n",
    "    print(\"Look for traffic cop's direction or treat as a stop sign\")"
   ]
  },
  {
   "cell_type": "code",
   "execution_count": 22,
   "metadata": {
    "scrolled": true
   },
   "outputs": [
    {
     "name": "stdout",
     "output_type": "stream",
     "text": [
      "Keep going\n"
     ]
    }
   ],
   "source": [
    "light_color = \"Yellow\"\n",
    "you_can_stop_safely = False\n",
    "\n",
    "if light_color == 'Green':\n",
    "    print(\"Go\")\n",
    "elif light_color == \"Red\":\n",
    "    print(\"Stop\")\n",
    "elif light_color == \"Yellow\":\n",
    "    if you_can_stop_safely:\n",
    "        print(\"Come to a fill and complete stop before the crosswalk\")\n",
    "    else:\n",
    "        print(\"Keep going\")\n",
    "else:\n",
    "    print(\"Look for traffic cop's direction or treat as a stop sign\")"
   ]
  },
  {
   "cell_type": "code",
   "execution_count": 23,
   "metadata": {},
   "outputs": [
    {
     "name": "stdout",
     "output_type": "stream",
     "text": [
      "Middle of the road, huh?\n"
     ]
    }
   ],
   "source": [
    "coffee_preference = 'medium'\n",
    "\n",
    "if coffee_preference == 'dark':\n",
    "    print('I love a good dark roast!')\n",
    "elif coffee_preference == 'medium':\n",
    "    print('Middle of the road, huh?')\n",
    "elif coffee_preference == 'light':\n",
    "    print('Light roast has the most caffeine!')\n",
    "else:\n",
    "    print('How about some tea then?')"
   ]
  },
  {
   "cell_type": "markdown",
   "metadata": {},
   "source": [
    "In the example above, only one of the print statements will ever execute, and the first condition that evaluates to true will be the block that executes. For example, if coffee_preference was dark, only the message about dark roasts would print, and we would not see the others.\n",
    "\n",
    "If none of the conditions evaluate to true, the final else block will execute."
   ]
  },
  {
   "cell_type": "markdown",
   "metadata": {},
   "source": [
    "### Iteration and Repetition\n",
    "\n",
    "Python has two basic loops:\n",
    "\n",
    "1. While Loop: For running a block of code until a condition is met\n",
    "   \n",
    "  **Keyword**: *while*\n",
    "   \n",
    "   If the condition in the while loop never evaluates to False, you will end up with what is called an infinite loop, a loop that never stops executing. Usually this is undesirable, so care should be taken to make sure that your loop condition will eventually evaluate to False.\n",
    "   \n",
    "   In our opinion, it is best to avoid while loops alltogether, but you should be prepared to see them in code that you come accross, or for very specific situations.\n",
    "    \n",
    "    \n",
    "2. For Loop: For running a block of code a set number of times\n",
    "\n",
    "    **Keyword:** *for*\n",
    "    \n",
    "    By far, the for loop is much more common in python code (this is not necessarily the case in other programming languages), but both are important.\n",
    "\n",
    "    The for loop is commonly used with iterables, objects that can be enumerated, for examples, lists or strings.\n"
   ]
  },
  {
   "cell_type": "code",
   "execution_count": 24,
   "metadata": {},
   "outputs": [
    {
     "name": "stdout",
     "output_type": "stream",
     "text": [
      "0\n",
      "1\n",
      "2\n",
      "3\n",
      "4\n",
      "5\n",
      "6\n",
      "7\n",
      "8\n",
      "9\n",
      "10\n"
     ]
    }
   ],
   "source": [
    "number = 0\n",
    "while number <= 10:\n",
    "    print(number)\n",
    "    number += 1"
   ]
  },
  {
   "cell_type": "code",
   "execution_count": 26,
   "metadata": {},
   "outputs": [
    {
     "name": "stdout",
     "output_type": "stream",
     "text": [
      "\n",
      "a\n",
      "aa\n",
      "aaa\n",
      "aaaa\n",
      "aaaaa\n",
      "aaaaaa\n",
      "aaaaaaa\n",
      "aaaaaaaa\n",
      "aaaaaaaaa\n",
      "stuff\n"
     ]
    }
   ],
   "source": [
    "string = ''\n",
    "while len(string) < 10:\n",
    "    print(string)\n",
    "    string += 'a'\n",
    "print('stuff')"
   ]
  },
  {
   "cell_type": "code",
   "execution_count": 32,
   "metadata": {},
   "outputs": [
    {
     "name": "stdout",
     "output_type": "stream",
     "text": [
      "26\n"
     ]
    }
   ],
   "source": [
    "number = 1\n",
    "while number <= 25:\n",
    "    number += 1\n",
    "print(number)"
   ]
  },
  {
   "cell_type": "markdown",
   "metadata": {},
   "source": [
    "The code above will continue to run, until the value of the variable reaches the especified value, or the condition becomes False\n",
    "\n",
    "If the clause is actually never met (i.e value is never True) then the loop will just not execute, but the program will still run"
   ]
  },
  {
   "cell_type": "code",
   "execution_count": null,
   "metadata": {},
   "outputs": [],
   "source": [
    "while len(\"kiwi\") > 5:\n",
    "    print(\"The word is too short\")\n",
    "print('stuff')"
   ]
  },
  {
   "cell_type": "markdown",
   "metadata": {},
   "source": [
    "**You can also use while loops for lists**"
   ]
  },
  {
   "cell_type": "code",
   "execution_count": 1,
   "metadata": {},
   "outputs": [
    {
     "name": "stdout",
     "output_type": "stream",
     "text": [
      "appetizer\n",
      "salad\n",
      "entre\n",
      "dessert\n",
      "coffee\n",
      "That was a great meal\n"
     ]
    }
   ],
   "source": [
    "dishes = ['appetizer', 'salad', 'entre', 'dessert', 'coffee']\n",
    "i = 0\n",
    "while i < len(dishes):\n",
    "    print(dishes[i])\n",
    "    i += 1\n",
    "    \n",
    "print('That was a great meal')\n",
    "    "
   ]
  },
  {
   "cell_type": "markdown",
   "metadata": {},
   "source": [
    "Interestingly, the while loop when interpreting lists is very similar to list iterations and for loops"
   ]
  },
  {
   "cell_type": "code",
   "execution_count": 4,
   "metadata": {},
   "outputs": [
    {
     "name": "stdout",
     "output_type": "stream",
     "text": [
      "appetizer\n",
      "salad\n",
      "entre\n",
      "dessert\n",
      "coffee\n"
     ]
    }
   ],
   "source": [
    "for dish in dishes:\n",
    "    print(dish)"
   ]
  },
  {
   "cell_type": "code",
   "execution_count": 5,
   "metadata": {},
   "outputs": [
    {
     "name": "stdout",
     "output_type": "stream",
     "text": [
      "0 appetizer\n",
      "1 salad\n",
      "2 entre\n",
      "3 dessert\n",
      "4 coffee\n"
     ]
    }
   ],
   "source": [
    "for i, dish in enumerate(dishes):\n",
    "    print(i, dish)"
   ]
  },
  {
   "cell_type": "markdown",
   "metadata": {},
   "source": [
    "### Break and Continue\n",
    "\n",
    "There are two special keywords in python that can change how the control flows through a loop:\n",
    "\n",
    "**Break exits the loop complete**"
   ]
  },
  {
   "cell_type": "code",
   "execution_count": null,
   "metadata": {},
   "outputs": [],
   "source": [
    "topping == input(\"What is your favorte topping?\")\n",
    "\n",
    "while topping != 'pineapple':\n",
    "    print(f\"{topping.capitalized()}) ain't pineapple\")\n",
    "    topping = input(\"What is your favorite topping\")\n",
    "    \n",
    "    if topping == \"sausage\":\n",
    "        break\n",
    "        \n",
    "        "
   ]
  },
  {
   "cell_type": "markdown",
   "metadata": {},
   "source": [
    "**Continue skips to the next loop iteration**"
   ]
  },
  {
   "cell_type": "code",
   "execution_count": 6,
   "metadata": {},
   "outputs": [
    {
     "name": "stdout",
     "output_type": "stream",
     "text": [
      "1\n",
      "3\n",
      "5\n",
      "7\n"
     ]
    }
   ],
   "source": [
    "numbers = [1,2,3,4,5,6,7]\n",
    "\n",
    "for number in numbers:\n",
    "    if number % 2 == 0:\n",
    "        continue\n",
    "    print(number)"
   ]
  },
  {
   "cell_type": "markdown",
   "metadata": {},
   "source": [
    "## Coding vs. Programming:\n",
    "\n",
    "Programming is a mental activity where we programmatically understand the problem and build programmatic solutions to that problem.\n",
    "\n",
    "Programming happens in your head, in conversations, on whiteboards, or paper\n",
    "\n",
    "- What are the ways we can represent the problem?\n",
    "- Identify the atomic operations (what's the smallest operation (in English) that can happen)\n",
    "- Identify the sequence of events\n",
    "- Identify the conditional execution\n",
    "- Identify any reptition\n",
    "\n",
    "#### Coding = converting or translating your programmatic solution (in pseudo-code) to a specific programming language\n"
   ]
  }
 ],
 "metadata": {
  "kernelspec": {
   "display_name": "Python 3",
   "language": "python",
   "name": "python3"
  },
  "language_info": {
   "codemirror_mode": {
    "name": "ipython",
    "version": 3
   },
   "file_extension": ".py",
   "mimetype": "text/x-python",
   "name": "python",
   "nbconvert_exporter": "python",
   "pygments_lexer": "ipython3",
   "version": "3.7.4"
  }
 },
 "nbformat": 4,
 "nbformat_minor": 2
}
