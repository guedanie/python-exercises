{
 "cells": [
  {
   "cell_type": "markdown",
   "metadata": {},
   "source": [
    "# Working with Files\n",
    "\n",
    "In this lesson, we'll explore how to read the contents of a file, as well as how to create / modify files with Python.\n",
    "\n",
    "We'll be using the ```open``` function throughout this lesson. The ```open``` function gives us access to an object that represents a file on our hard disk.\n",
    "\n",
    "We will focus on two arguments to the ```open``` function:\n",
    "\n",
    "* The first argument is the file path that specifies where the file is that we want to manipulate. This can be either a relative or an absolute path.\n",
    "* The second argument is optional, and specifies the mode in which we wish to open the file; we will either read the file's contents or write contents to a file.\n",
    "\n",
    "Mode | Description\n",
    "-------|----------\n",
    "r |\tOpen the file for reading (the default)\n",
    "w |\tOpen the file for writing. Will truncate any existing file contents\n",
    "a |\tOpen the file for writing. Will append to any existing contents.\n",
    "x |\tOpen the file for writing. Will give an error if the file already exists"
   ]
  },
  {
   "cell_type": "markdown",
   "metadata": {},
   "source": [
    "## Reading Files Contentents\n",
    "\n",
    "In the example below, we will open up a file and read the entire contents of the file into a string variable:"
   ]
  },
  {
   "cell_type": "code",
   "execution_count": null,
   "metadata": {},
   "outputs": [],
   "source": [
    "with open('myfile.text') as f:\n",
    "    file_contents = f.read()"
   ]
  },
  {
   "cell_type": "code",
   "execution_count": 2,
   "metadata": {},
   "outputs": [],
   "source": [
    "with open('/Users/danielguerrero/codeup_data_science/python-exercises/hello.py') as f:\n",
    "          file_contents = f.read()"
   ]
  },
  {
   "cell_type": "code",
   "execution_count": 4,
   "metadata": {},
   "outputs": [
    {
     "name": "stdout",
     "output_type": "stream",
     "text": [
      "message = 'Hello, World'\n",
      "\n",
      "print(message)\n"
     ]
    }
   ],
   "source": [
    "print(file_contents)"
   ]
  },
  {
   "cell_type": "markdown",
   "metadata": {},
   "source": [
    "Often times it is the case that we want to process a file's content line by line. We can do so by using the string's ```.split``` method with the newline character"
   ]
  },
  {
   "cell_type": "code",
   "execution_count": null,
   "metadata": {},
   "outputs": [],
   "source": [
    "lines = file_contents.split('\\n')"
   ]
  },
  {
   "cell_type": "markdown",
   "metadata": {},
   "source": [
    "Here ```lines``` will be a list, and each element in the list will be a string that is the contents of one line in the file.\n",
    "\n",
    "The operation is so common that python procides a way to do it for us:"
   ]
  },
  {
   "cell_type": "code",
   "execution_count": null,
   "metadata": {},
   "outputs": [],
   "source": [
    "with open('myfile.txt') as f:\n",
    "    lines = f.readlines()"
   ]
  },
  {
   "cell_type": "markdown",
   "metadata": {},
   "source": [
    "### Writing contents to a files:"
   ]
  },
  {
   "cell_type": "code",
   "execution_count": null,
   "metadata": {},
   "outputs": [],
   "source": [
    "file_contents = '''\n",
    "one\n",
    "two\n",
    "three\n",
    "'''\n",
    "\n",
    "with open('myfile.txt', 'w') as f:\n",
    "    f.write(file_contents)"
   ]
  }
 ],
 "metadata": {
  "kernelspec": {
   "display_name": "Python 3",
   "language": "python",
   "name": "python3"
  },
  "language_info": {
   "codemirror_mode": {
    "name": "ipython",
    "version": 3
   },
   "file_extension": ".py",
   "mimetype": "text/x-python",
   "name": "python",
   "nbconvert_exporter": "python",
   "pygments_lexer": "ipython3",
   "version": "3.7.4"
  }
 },
 "nbformat": 4,
 "nbformat_minor": 2
}
