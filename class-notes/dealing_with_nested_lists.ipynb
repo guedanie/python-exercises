{
 "cells": [
  {
   "cell_type": "markdown",
   "metadata": {},
   "source": [
    "# Dealing with nested lists\n",
    "\n",
    "To go from a nested list:\n",
    "\n",
    "```\n",
    "[[1, 2, 3], [4, 5, 6], [7, 8, 9]]\n",
    "```\n",
    "\n",
    "to a flattened list:\n",
    "\n",
    "```\n",
    "[1, 2, 3, 4, 5, 6, 7, 8, 9]\n",
    "```\n",
    "\n",
    "1. The `sum` function\n",
    "\n",
    "    ```python\n",
    "    nested_list = [[1, 2, 3], [4, 5, 6], [7, 8, 9]]\n",
    "    flattened_list = sum(nested_list, [])\n",
    "    ```\n",
    "\n",
    "    This works because the `sum` function is using the `+` operator, which does\n",
    "    list concatenation on all of the nested lists.\n",
    "\n",
    "1. A more complicated list comprehension\n",
    "\n",
    "    ```python\n",
    "    nested_list = [[1, 2, 3], [4, 5, 6], [7, 8, 9]]\n",
    "    flattened_list = [n for a_list in nested_list for n in a_list]\n",
    "    ```\n",
    "\n",
    "    Here we iterate over every list that is a element of the nested_list (`for a_list in nested_list`), and furthormore, iterate over every element of each list element (`for n in a_list`).\n",
    "\n",
    "## An Example\n",
    "\n",
    "Let's say we wanted to find the odd numbers from the nested list described\n",
    "above:\n",
    "\n",
    "1. Using the `sum` function\n",
    "\n",
    "    ```python\n",
    "    nested_list = [[1, 2, 3], [4, 5, 6], [7, 8, 9]]\n",
    "    flattened_numbers = sum(nested_list, [])\n",
    "    odd_numbers = [n for n in flattened_numbers if n % 2 == 1]\n",
    "    ```\n",
    "\n",
    "    We could put all of this on a single line if we wanted to:\n",
    "\n",
    "    ```python\n",
    "    [n for n in sum(nested_list, []) if n % 2 == 1]\n",
    "    ```\n",
    "\n",
    "1. Using a more fancy list comprehension\n",
    "\n",
    "\n",
    "    ```python\n",
    "    [n for a_list in nested_list for n in a_list if n % 2 == 1]\n",
    "    ```"
   ]
  }
 ],
 "metadata": {
  "kernelspec": {
   "display_name": "Python 3",
   "language": "python",
   "name": "python3"
  },
  "language_info": {
   "codemirror_mode": {
    "name": "ipython",
    "version": 3
   },
   "file_extension": ".py",
   "mimetype": "text/x-python",
   "name": "python",
   "nbconvert_exporter": "python",
   "pygments_lexer": "ipython3",
   "version": "3.7.4"
  }
 },
 "nbformat": 4,
 "nbformat_minor": 2
}
