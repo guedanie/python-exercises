{
 "cells": [
  {
   "cell_type": "markdown",
   "metadata": {},
   "source": [
    "# Imports:\n",
    "\n",
    "There are 3 main places we can import from: \n",
    "\n",
    "* The Python standard library. This comes with the Python language, and no special action is needed in order to use it.\n",
    "* 3rd party libraries. These require installation either through conda or pip (i. e pandas, numpy, seaborn).\n",
    "* Our own code. We can break our code into separate files and use imports to use code from one file in another.\n",
    "\n",
    "The simplest way to import a *module* is to use the ```import``` keyword and the name of the module"
   ]
  },
  {
   "cell_type": "code",
   "execution_count": 1,
   "metadata": {},
   "outputs": [],
   "source": [
    "import time"
   ]
  },
  {
   "cell_type": "markdown",
   "metadata": {},
   "source": [
    "Once we have imported the module, we can reference variables or functions defined in the module using a ```.``` after the module's name"
   ]
  },
  {
   "cell_type": "code",
   "execution_count": 5,
   "metadata": {},
   "outputs": [
    {
     "name": "stdout",
     "output_type": "stream",
     "text": [
      "All Done!\n"
     ]
    }
   ],
   "source": [
    "time.sleep(2)\n",
    "print(\"All Done!\")"
   ]
  },
  {
   "cell_type": "markdown",
   "metadata": {},
   "source": [
    "We can also create an alias for a module when we import it. This allows us to refere to the module with a different (often shorter) name."
   ]
  },
  {
   "cell_type": "code",
   "execution_count": 7,
   "metadata": {},
   "outputs": [
    {
     "name": "stdout",
     "output_type": "stream",
     "text": [
      "All Done!\n"
     ]
    }
   ],
   "source": [
    "import time as t\n",
    "\n",
    "t.sleep(2)\n",
    "print(\"All Done!\")"
   ]
  },
  {
   "cell_type": "markdown",
   "metadata": {},
   "source": [
    "Like importing a module, you can rename individual functions when they are imported"
   ]
  },
  {
   "cell_type": "code",
   "execution_count": 3,
   "metadata": {},
   "outputs": [
    {
     "name": "stdout",
     "output_type": "stream",
     "text": [
      "All Done!\n"
     ]
    }
   ],
   "source": [
    "from time import sleep as wait\n",
    "\n",
    "wait(2)\n",
    "print(\"All Done!\")"
   ]
  },
  {
   "cell_type": "markdown",
   "metadata": {},
   "source": [
    "## Importing from your own code:\n",
    "\n",
    "To import from code that you have written, simply refrence the name of the file without the .py extension\n",
    "\n",
    "We have a file, ```util.py```, in the same directory as the script we are running. \n",
    "\n",
    "```util.py``` has the following contents:\n",
    "\n",
    "``` def sayhello():```\n",
    "     ```print(\"Hello, World!\")```\n",
    "        \n",
    "We can import our file like this:\n",
    "\n",
    "```import util```\n",
    "\n",
    "```util.sayhello()```\n",
    "\n",
    "When a modeule is imported, all the code in that file is executed. Sometimes thsi can procuce some undersired side effects, so a best practice is to only have definitions inside a module. If the module contains *proceduralcode*, we can place it inside of an if statement"
   ]
  },
  {
   "cell_type": "code",
   "execution_count": 9,
   "metadata": {},
   "outputs": [
    {
     "name": "stdout",
     "output_type": "stream",
     "text": [
      "Hello, World!\n"
     ]
    }
   ],
   "source": [
    "if __name__ == '__main__':\n",
    "    print(\"Hello, World!\")"
   ]
  },
  {
   "cell_type": "markdown",
   "metadata": {},
   "source": [
    "The ```__name__``` variable is a special variable that is set by python. It's value will be ```__main__``` when the module is being run directly, but *not* when you run them directly, but can also be imported from without producing side effects. "
   ]
  }
 ],
 "metadata": {
  "kernelspec": {
   "display_name": "Python 3",
   "language": "python",
   "name": "python3"
  },
  "language_info": {
   "codemirror_mode": {
    "name": "ipython",
    "version": 3
   },
   "file_extension": ".py",
   "mimetype": "text/x-python",
   "name": "python",
   "nbconvert_exporter": "python",
   "pygments_lexer": "ipython3",
   "version": "3.7.4"
  }
 },
 "nbformat": 4,
 "nbformat_minor": 2
}
